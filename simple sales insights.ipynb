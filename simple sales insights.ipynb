{
 "cells": [
  {
   "cell_type": "code",
   "execution_count": 0,
   "metadata": {
    "application/vnd.databricks.v1+cell": {
     "cellMetadata": {
      "byteLimit": 2048000,
      "rowLimit": 10000
     },
     "inputWidgets": {},
     "nuid": "7a00e287-84c8-428c-a96c-0ef2bc8ad7ec",
     "showTitle": false,
     "tableResultSettingsMap": {},
     "title": ""
    }
   },
   "outputs": [
    {
     "output_type": "display_data",
     "data": {
      "text/html": [
       "<style scoped>\n",
       "  .table-result-container {\n",
       "    max-height: 300px;\n",
       "    overflow: auto;\n",
       "  }\n",
       "  table, th, td {\n",
       "    border: 1px solid black;\n",
       "    border-collapse: collapse;\n",
       "  }\n",
       "  th, td {\n",
       "    padding: 5px;\n",
       "  }\n",
       "  th {\n",
       "    text-align: left;\n",
       "  }\n",
       "</style><div class='table-result-container'><table class='table-result'><thead style='background-color: white'><tr><th>num_affected_rows</th><th>num_inserted_rows</th></tr></thead><tbody><tr><td>20</td><td>20</td></tr></tbody></table></div>"
      ]
     },
     "metadata": {
      "application/vnd.databricks.v1+output": {
       "addedWidgets": {},
       "aggData": [],
       "aggError": "",
       "aggOverflow": false,
       "aggSchema": [],
       "aggSeriesLimitReached": false,
       "aggType": "",
       "arguments": {},
       "columnCustomDisplayInfos": {},
       "data": [
        [
         20,
         20
        ]
       ],
       "datasetInfos": [
        {
         "name": "_sqldf",
         "schema": {
          "fields": [
           {
            "metadata": {},
            "name": "num_affected_rows",
            "nullable": true,
            "type": "long"
           },
           {
            "metadata": {},
            "name": "num_inserted_rows",
            "nullable": true,
            "type": "long"
           }
          ],
          "type": "struct"
         },
         "tableIdentifier": null,
         "typeStr": "pyspark.sql.connect.dataframe.DataFrame"
        }
       ],
       "dbfsResultPath": null,
       "isJsonSchema": true,
       "metadata": {
        "createTempViewForImplicitDf": true,
        "dataframeName": "_sqldf",
        "executionCount": 1
       },
       "overflow": false,
       "plotOptions": {
        "customPlotOptions": {},
        "displayType": "table",
        "pivotAggregation": null,
        "pivotColumns": null,
        "xColumns": null,
        "yColumns": null
       },
       "removedWidgets": [],
       "schema": [
        {
         "metadata": "{}",
         "name": "num_affected_rows",
         "type": "\"long\""
        },
        {
         "metadata": "{}",
         "name": "num_inserted_rows",
         "type": "\"long\""
        }
       ],
       "type": "table"
      }
     },
     "output_type": "display_data"
    }
   ],
   "source": [
    "CREATE TABLE customers (\n",
    "  customer_id INT,\n",
    "  name VARCHAR(100),\n",
    "  city VARCHAR(50)\n",
    ");\n",
    "\n",
    "INSERT INTO customers VALUES\n",
    "(1, 'Customer1', 'Bangalore'),\n",
    "(2, 'Customer2', 'Chennai'),\n",
    "(3, 'Customer3', 'Mangalore'),\n",
    "(4, 'Customer4', 'Mumbai'),\n",
    "(5, 'Customer5', 'Hyderabad'),\n",
    "(6, 'Customer6', 'Chennai'),\n",
    "(7, 'Customer7', 'Mumbai'),\n",
    "(8, 'Customer8', 'Bangalore'),\n",
    "(9, 'Customer9', 'Mangalore'),\n",
    "(10, 'Customer10', 'Hyderabad'),\n",
    "(11, 'Customer11', 'Chennai'),\n",
    "(12, 'Customer12', 'Mumbai'),\n",
    "(13, 'Customer13', 'Mangalore'),\n",
    "(14, 'Customer14', 'Bangalore'),\n",
    "(15, 'Customer15', 'Hyderabad'),\n",
    "(16, 'Customer16', 'Chennai'),\n",
    "(17, 'Customer17', 'Mumbai'),\n",
    "(18, 'Customer18', 'Mangalore'),\n",
    "(19, 'Customer19', 'Bangalore'),\n",
    "(20, 'Customer20', 'Hyderabad');\n"
   ]
  },
  {
   "cell_type": "code",
   "execution_count": 0,
   "metadata": {
    "application/vnd.databricks.v1+cell": {
     "cellMetadata": {
      "byteLimit": 2048000,
      "rowLimit": 10000
     },
     "inputWidgets": {},
     "nuid": "73ff6c38-9dbe-4a43-9199-2b7c78dd752a",
     "showTitle": false,
     "tableResultSettingsMap": {},
     "title": ""
    }
   },
   "outputs": [],
   "source": [
    "CREATE TABLE products (\n",
    "  product_id INT,\n",
    "  product_name VARCHAR(100),\n",
    "  category VARCHAR(50),\n",
    "  price INT\n",
    ");\n",
    "\n",
    "INSERT INTO products VALUES\n",
    "(101, 'Laptop', 'Electronics', 75000),\n",
    "(102, 'Headphones', 'Electronics', 2000),\n",
    "(103, 'Chair', 'Furniture', 3500),\n",
    "(104, 'Phone', 'Electronics', 25000),\n",
    "(105, 'Table', 'Furniture', 5000),\n",
    "(106, 'Fan', 'Appliances', 1800),\n",
    "(107, 'Fridge', 'Appliances', 30000),\n",
    "(108, 'Mouse', 'Electronics', 700),\n",
    "(109, 'Keyboard', 'Electronics', 1500),\n",
    "(110, 'Bottle', 'Kitchen', 300),\n",
    "(111, 'Notebook', 'Stationery', 100),\n",
    "(112, 'TV', 'Electronics', 40000),\n",
    "(113, 'Pen', 'Stationery', 50),\n",
    "(114, 'Spoon', 'Kitchen', 80),\n",
    "(115, 'Air Conditioner', 'Appliances', 35000),\n",
    "(116, 'Mattress', 'Furniture', 12000),\n",
    "(117, 'Bag', 'Accessories', 2000),\n",
    "(118, 'Watch', 'Accessories', 5000),\n",
    "(119, 'Router', 'Electronics', 2200),\n",
    "(120, 'Lamp', 'Furniture', 1600);\n"
   ]
  },
  {
   "cell_type": "code",
   "execution_count": 0,
   "metadata": {
    "application/vnd.databricks.v1+cell": {
     "cellMetadata": {
      "byteLimit": 2048000,
      "rowLimit": 10000
     },
     "inputWidgets": {},
     "nuid": "3dbbe20c-c559-46f7-a898-514ae29b583d",
     "showTitle": false,
     "tableResultSettingsMap": {},
     "title": ""
    }
   },
   "outputs": [
    {
     "output_type": "display_data",
     "data": {
      "text/html": [
       "<style scoped>\n",
       "  .table-result-container {\n",
       "    max-height: 300px;\n",
       "    overflow: auto;\n",
       "  }\n",
       "  table, th, td {\n",
       "    border: 1px solid black;\n",
       "    border-collapse: collapse;\n",
       "  }\n",
       "  th, td {\n",
       "    padding: 5px;\n",
       "  }\n",
       "  th {\n",
       "    text-align: left;\n",
       "  }\n",
       "</style><div class='table-result-container'><table class='table-result'><thead style='background-color: white'><tr><th>num_affected_rows</th><th>num_inserted_rows</th></tr></thead><tbody><tr><td>20</td><td>20</td></tr></tbody></table></div>"
      ]
     },
     "metadata": {
      "application/vnd.databricks.v1+output": {
       "addedWidgets": {},
       "aggData": [],
       "aggError": "",
       "aggOverflow": false,
       "aggSchema": [],
       "aggSeriesLimitReached": false,
       "aggType": "",
       "arguments": {},
       "columnCustomDisplayInfos": {},
       "data": [
        [
         20,
         20
        ]
       ],
       "datasetInfos": [
        {
         "name": "_sqldf",
         "schema": {
          "fields": [
           {
            "metadata": {},
            "name": "num_affected_rows",
            "nullable": true,
            "type": "long"
           },
           {
            "metadata": {},
            "name": "num_inserted_rows",
            "nullable": true,
            "type": "long"
           }
          ],
          "type": "struct"
         },
         "tableIdentifier": null,
         "typeStr": "pyspark.sql.connect.dataframe.DataFrame"
        }
       ],
       "dbfsResultPath": null,
       "isJsonSchema": true,
       "metadata": {
        "createTempViewForImplicitDf": true,
        "dataframeName": "_sqldf",
        "executionCount": 3
       },
       "overflow": false,
       "plotOptions": {
        "customPlotOptions": {},
        "displayType": "table",
        "pivotAggregation": null,
        "pivotColumns": null,
        "xColumns": null,
        "yColumns": null
       },
       "removedWidgets": [],
       "schema": [
        {
         "metadata": "{}",
         "name": "num_affected_rows",
         "type": "\"long\""
        },
        {
         "metadata": "{}",
         "name": "num_inserted_rows",
         "type": "\"long\""
        }
       ],
       "type": "table"
      }
     },
     "output_type": "display_data"
    }
   ],
   "source": [
    "CREATE TABLE orders (\n",
    "  order_id INT,\n",
    "  customer_id INT,\n",
    "  order_date DATE,\n",
    "  status VARCHAR(20)\n",
    ");\n",
    "\n",
    "INSERT INTO orders VALUES\n",
    "(1001, 1, '2025-06-01', 'Delivered'),\n",
    "(1002, 2, '2025-06-02', 'Pending'),\n",
    "(1003, 3, '2025-06-03', 'Delivered'),\n",
    "(1004, 4, '2025-06-04', 'Shipped'),\n",
    "(1005, 5, '2025-06-05', 'Cancelled'),\n",
    "(1006, 6, '2025-06-06', 'Delivered'),\n",
    "(1007, 7, '2025-06-07', 'Pending'),\n",
    "(1008, 8, '2025-06-08', 'Delivered'),\n",
    "(1009, 9, '2025-06-09', 'Cancelled'),\n",
    "(1010, 10, '2025-06-10', 'Shipped'),\n",
    "(1011, 11, '2025-06-11', 'Delivered'),\n",
    "(1012, 12, '2025-06-12', 'Pending'),\n",
    "(1013, 13, '2025-06-13', 'Delivered'),\n",
    "(1014, 14, '2025-06-14', 'Cancelled'),\n",
    "(1015, 15, '2025-06-15', 'Shipped'),\n",
    "(1016, 16, '2025-06-16', 'Delivered'),\n",
    "(1017, 17, '2025-06-17', 'Pending'),\n",
    "(1018, 18, '2025-06-18', 'Cancelled'),\n",
    "(1019, 19, '2025-06-19', 'Shipped'),\n",
    "(1020, 20, '2025-06-20', 'Delivered');\n"
   ]
  },
  {
   "cell_type": "code",
   "execution_count": 0,
   "metadata": {
    "application/vnd.databricks.v1+cell": {
     "cellMetadata": {
      "byteLimit": 2048000,
      "rowLimit": 10000
     },
     "inputWidgets": {},
     "nuid": "a699a710-15e9-40dc-9ad4-3001aa6e80fa",
     "showTitle": false,
     "tableResultSettingsMap": {},
     "title": ""
    }
   },
   "outputs": [
    {
     "output_type": "display_data",
     "data": {
      "text/html": [
       "<style scoped>\n",
       "  .table-result-container {\n",
       "    max-height: 300px;\n",
       "    overflow: auto;\n",
       "  }\n",
       "  table, th, td {\n",
       "    border: 1px solid black;\n",
       "    border-collapse: collapse;\n",
       "  }\n",
       "  th, td {\n",
       "    padding: 5px;\n",
       "  }\n",
       "  th {\n",
       "    text-align: left;\n",
       "  }\n",
       "</style><div class='table-result-container'><table class='table-result'><thead style='background-color: white'><tr><th>num_affected_rows</th><th>num_inserted_rows</th></tr></thead><tbody><tr><td>20</td><td>20</td></tr></tbody></table></div>"
      ]
     },
     "metadata": {
      "application/vnd.databricks.v1+output": {
       "addedWidgets": {},
       "aggData": [],
       "aggError": "",
       "aggOverflow": false,
       "aggSchema": [],
       "aggSeriesLimitReached": false,
       "aggType": "",
       "arguments": {},
       "columnCustomDisplayInfos": {},
       "data": [
        [
         20,
         20
        ]
       ],
       "datasetInfos": [
        {
         "name": "_sqldf",
         "schema": {
          "fields": [
           {
            "metadata": {},
            "name": "num_affected_rows",
            "nullable": true,
            "type": "long"
           },
           {
            "metadata": {},
            "name": "num_inserted_rows",
            "nullable": true,
            "type": "long"
           }
          ],
          "type": "struct"
         },
         "tableIdentifier": null,
         "typeStr": "pyspark.sql.connect.dataframe.DataFrame"
        }
       ],
       "dbfsResultPath": null,
       "isJsonSchema": true,
       "metadata": {
        "createTempViewForImplicitDf": true,
        "dataframeName": "_sqldf",
        "executionCount": 4
       },
       "overflow": false,
       "plotOptions": {
        "customPlotOptions": {},
        "displayType": "table",
        "pivotAggregation": null,
        "pivotColumns": null,
        "xColumns": null,
        "yColumns": null
       },
       "removedWidgets": [],
       "schema": [
        {
         "metadata": "{}",
         "name": "num_affected_rows",
         "type": "\"long\""
        },
        {
         "metadata": "{}",
         "name": "num_inserted_rows",
         "type": "\"long\""
        }
       ],
       "type": "table"
      }
     },
     "output_type": "display_data"
    }
   ],
   "source": [
    "CREATE TABLE order_items (\n",
    "  item_id INT,\n",
    "  order_id INT,\n",
    "  product_id INT,\n",
    "  quantity INT\n",
    ");\n",
    "\n",
    "INSERT INTO order_items VALUES\n",
    "(1, 1001, 101, 1),\n",
    "(2, 1001, 102, 2),\n",
    "(3, 1002, 103, 1),\n",
    "(4, 1003, 104, 1),\n",
    "(5, 1004, 105, 2),\n",
    "(6, 1005, 106, 1),\n",
    "(7, 1006, 107, 1),\n",
    "(8, 1007, 108, 3),\n",
    "(9, 1008, 109, 1),\n",
    "(10, 1009, 110, 2),\n",
    "(11, 1010, 111, 5),\n",
    "(12, 1011, 112, 1),\n",
    "(13, 1012, 113, 10),\n",
    "(14, 1013, 114, 4),\n",
    "(15, 1014, 115, 1),\n",
    "(16, 1015, 116, 1),\n",
    "(17, 1016, 117, 2),\n",
    "(18, 1017, 118, 1),\n",
    "(19, 1018, 119, 2),\n",
    "(20, 1019, 120, 1);\n"
   ]
  },
  {
   "cell_type": "markdown",
   "metadata": {
    "application/vnd.databricks.v1+cell": {
     "cellMetadata": {
      "byteLimit": 2048000,
      "rowLimit": 10000
     },
     "inputWidgets": {},
     "nuid": "0be0f04d-00d6-495f-bf7c-cbdab93d6f43",
     "showTitle": false,
     "tableResultSettingsMap": {},
     "title": ""
    }
   },
   "source": [
    "\uD83D\uDD39 Basic SELECT & Filtering\n"
   ]
  },
  {
   "cell_type": "code",
   "execution_count": 0,
   "metadata": {
    "application/vnd.databricks.v1+cell": {
     "cellMetadata": {
      "byteLimit": 2048000,
      "rowLimit": 10000
     },
     "inputWidgets": {},
     "nuid": "114ad7b7-ad16-4647-bed6-f16404e7132d",
     "showTitle": false,
     "tableResultSettingsMap": {},
     "title": ""
    }
   },
   "outputs": [
    {
     "output_type": "display_data",
     "data": {
      "text/html": [
       "<style scoped>\n",
       "  .table-result-container {\n",
       "    max-height: 300px;\n",
       "    overflow: auto;\n",
       "  }\n",
       "  table, th, td {\n",
       "    border: 1px solid black;\n",
       "    border-collapse: collapse;\n",
       "  }\n",
       "  th, td {\n",
       "    padding: 5px;\n",
       "  }\n",
       "  th {\n",
       "    text-align: left;\n",
       "  }\n",
       "</style><div class='table-result-container'><table class='table-result'><thead style='background-color: white'><tr><th>customer_id</th><th>name</th><th>city</th></tr></thead><tbody><tr><td>1</td><td>Customer1</td><td>Bangalore</td></tr><tr><td>2</td><td>Customer2</td><td>Chennai</td></tr><tr><td>3</td><td>Customer3</td><td>Mangalore</td></tr><tr><td>4</td><td>Customer4</td><td>Mumbai</td></tr><tr><td>5</td><td>Customer5</td><td>Hyderabad</td></tr><tr><td>6</td><td>Customer6</td><td>Chennai</td></tr><tr><td>7</td><td>Customer7</td><td>Mumbai</td></tr><tr><td>8</td><td>Customer8</td><td>Bangalore</td></tr><tr><td>9</td><td>Customer9</td><td>Mangalore</td></tr><tr><td>10</td><td>Customer10</td><td>Hyderabad</td></tr><tr><td>11</td><td>Customer11</td><td>Chennai</td></tr><tr><td>12</td><td>Customer12</td><td>Mumbai</td></tr><tr><td>13</td><td>Customer13</td><td>Mangalore</td></tr><tr><td>14</td><td>Customer14</td><td>Bangalore</td></tr><tr><td>15</td><td>Customer15</td><td>Hyderabad</td></tr><tr><td>16</td><td>Customer16</td><td>Chennai</td></tr><tr><td>17</td><td>Customer17</td><td>Mumbai</td></tr><tr><td>18</td><td>Customer18</td><td>Mangalore</td></tr><tr><td>19</td><td>Customer19</td><td>Bangalore</td></tr><tr><td>20</td><td>Customer20</td><td>Hyderabad</td></tr></tbody></table></div>"
      ]
     },
     "metadata": {
      "application/vnd.databricks.v1+output": {
       "addedWidgets": {},
       "aggData": [],
       "aggError": "",
       "aggOverflow": false,
       "aggSchema": [],
       "aggSeriesLimitReached": false,
       "aggType": "",
       "arguments": {},
       "columnCustomDisplayInfos": {},
       "data": [
        [
         1,
         "Customer1",
         "Bangalore"
        ],
        [
         2,
         "Customer2",
         "Chennai"
        ],
        [
         3,
         "Customer3",
         "Mangalore"
        ],
        [
         4,
         "Customer4",
         "Mumbai"
        ],
        [
         5,
         "Customer5",
         "Hyderabad"
        ],
        [
         6,
         "Customer6",
         "Chennai"
        ],
        [
         7,
         "Customer7",
         "Mumbai"
        ],
        [
         8,
         "Customer8",
         "Bangalore"
        ],
        [
         9,
         "Customer9",
         "Mangalore"
        ],
        [
         10,
         "Customer10",
         "Hyderabad"
        ],
        [
         11,
         "Customer11",
         "Chennai"
        ],
        [
         12,
         "Customer12",
         "Mumbai"
        ],
        [
         13,
         "Customer13",
         "Mangalore"
        ],
        [
         14,
         "Customer14",
         "Bangalore"
        ],
        [
         15,
         "Customer15",
         "Hyderabad"
        ],
        [
         16,
         "Customer16",
         "Chennai"
        ],
        [
         17,
         "Customer17",
         "Mumbai"
        ],
        [
         18,
         "Customer18",
         "Mangalore"
        ],
        [
         19,
         "Customer19",
         "Bangalore"
        ],
        [
         20,
         "Customer20",
         "Hyderabad"
        ]
       ],
       "datasetInfos": [
        {
         "name": "_sqldf",
         "schema": {
          "fields": [
           {
            "metadata": {},
            "name": "customer_id",
            "nullable": true,
            "type": "integer"
           },
           {
            "metadata": {
             "__CHAR_VARCHAR_TYPE_STRING": "varchar(100)"
            },
            "name": "name",
            "nullable": true,
            "type": "string"
           },
           {
            "metadata": {
             "__CHAR_VARCHAR_TYPE_STRING": "varchar(50)"
            },
            "name": "city",
            "nullable": true,
            "type": "string"
           }
          ],
          "type": "struct"
         },
         "tableIdentifier": null,
         "typeStr": "pyspark.sql.connect.dataframe.DataFrame"
        }
       ],
       "dbfsResultPath": null,
       "isJsonSchema": true,
       "metadata": {
        "createTempViewForImplicitDf": true,
        "dataframeName": "_sqldf",
        "executionCount": 8
       },
       "overflow": false,
       "plotOptions": {
        "customPlotOptions": {},
        "displayType": "table",
        "pivotAggregation": null,
        "pivotColumns": null,
        "xColumns": null,
        "yColumns": null
       },
       "removedWidgets": [],
       "schema": [
        {
         "metadata": "{}",
         "name": "customer_id",
         "type": "\"integer\""
        },
        {
         "metadata": "{\"__CHAR_VARCHAR_TYPE_STRING\": \"varchar(100)\"}",
         "name": "name",
         "type": "\"string\""
        },
        {
         "metadata": "{\"__CHAR_VARCHAR_TYPE_STRING\": \"varchar(50)\"}",
         "name": "city",
         "type": "\"string\""
        }
       ],
       "type": "table"
      }
     },
     "output_type": "display_data"
    }
   ],
   "source": [
    "--1. List all customers.\n",
    "SELECT * \n",
    "from customers;"
   ]
  },
  {
   "cell_type": "code",
   "execution_count": 0,
   "metadata": {
    "application/vnd.databricks.v1+cell": {
     "cellMetadata": {
      "byteLimit": 2048000,
      "rowLimit": 10000
     },
     "inputWidgets": {},
     "nuid": "41220b6b-effc-4e39-a793-bbb07d18d207",
     "showTitle": false,
     "tableResultSettingsMap": {},
     "title": ""
    }
   },
   "outputs": [
    {
     "output_type": "display_data",
     "data": {
      "text/html": [
       "<style scoped>\n",
       "  .table-result-container {\n",
       "    max-height: 300px;\n",
       "    overflow: auto;\n",
       "  }\n",
       "  table, th, td {\n",
       "    border: 1px solid black;\n",
       "    border-collapse: collapse;\n",
       "  }\n",
       "  th, td {\n",
       "    padding: 5px;\n",
       "  }\n",
       "  th {\n",
       "    text-align: left;\n",
       "  }\n",
       "</style><div class='table-result-container'><table class='table-result'><thead style='background-color: white'><tr><th>product_name</th></tr></thead><tbody><tr><td>Laptop</td></tr><tr><td>Headphones</td></tr><tr><td>Phone</td></tr><tr><td>Mouse</td></tr><tr><td>Keyboard</td></tr><tr><td>TV</td></tr><tr><td>Router</td></tr></tbody></table></div>"
      ]
     },
     "metadata": {
      "application/vnd.databricks.v1+output": {
       "addedWidgets": {},
       "aggData": [],
       "aggError": "",
       "aggOverflow": false,
       "aggSchema": [],
       "aggSeriesLimitReached": false,
       "aggType": "",
       "arguments": {},
       "columnCustomDisplayInfos": {},
       "data": [
        [
         "Laptop"
        ],
        [
         "Headphones"
        ],
        [
         "Phone"
        ],
        [
         "Mouse"
        ],
        [
         "Keyboard"
        ],
        [
         "TV"
        ],
        [
         "Router"
        ]
       ],
       "datasetInfos": [
        {
         "name": "_sqldf",
         "schema": {
          "fields": [
           {
            "metadata": {
             "__CHAR_VARCHAR_TYPE_STRING": "varchar(100)"
            },
            "name": "product_name",
            "nullable": true,
            "type": "string"
           }
          ],
          "type": "struct"
         },
         "tableIdentifier": null,
         "typeStr": "pyspark.sql.connect.dataframe.DataFrame"
        }
       ],
       "dbfsResultPath": null,
       "isJsonSchema": true,
       "metadata": {
        "createTempViewForImplicitDf": true,
        "dataframeName": "_sqldf",
        "executionCount": 20
       },
       "overflow": false,
       "plotOptions": {
        "customPlotOptions": {},
        "displayType": "table",
        "pivotAggregation": null,
        "pivotColumns": null,
        "xColumns": null,
        "yColumns": null
       },
       "removedWidgets": [],
       "schema": [
        {
         "metadata": "{\"__CHAR_VARCHAR_TYPE_STRING\": \"varchar(100)\"}",
         "name": "product_name",
         "type": "\"string\""
        }
       ],
       "type": "table"
      }
     },
     "output_type": "display_data"
    }
   ],
   "source": [
    "--2. Show all products in the “Electronics” category.\n",
    "SELECT product_name\n",
    "FROM products\n",
    "where category='Electronics'"
   ]
  },
  {
   "cell_type": "code",
   "execution_count": 0,
   "metadata": {
    "application/vnd.databricks.v1+cell": {
     "cellMetadata": {
      "byteLimit": 2048000,
      "rowLimit": 10000
     },
     "inputWidgets": {},
     "nuid": "d7c69341-93a9-4afb-a408-d4bbc4a4fb39",
     "showTitle": false,
     "tableResultSettingsMap": {},
     "title": ""
    }
   },
   "outputs": [
    {
     "output_type": "display_data",
     "data": {
      "text/html": [
       "<style scoped>\n",
       "  .table-result-container {\n",
       "    max-height: 300px;\n",
       "    overflow: auto;\n",
       "  }\n",
       "  table, th, td {\n",
       "    border: 1px solid black;\n",
       "    border-collapse: collapse;\n",
       "  }\n",
       "  th, td {\n",
       "    padding: 5px;\n",
       "  }\n",
       "  th {\n",
       "    text-align: left;\n",
       "  }\n",
       "</style><div class='table-result-container'><table class='table-result'><thead style='background-color: white'><tr><th>customer_id</th><th>name</th><th>city</th></tr></thead><tbody><tr><td>3</td><td>Customer3</td><td>Mangalore</td></tr><tr><td>9</td><td>Customer9</td><td>Mangalore</td></tr><tr><td>13</td><td>Customer13</td><td>Mangalore</td></tr><tr><td>18</td><td>Customer18</td><td>Mangalore</td></tr></tbody></table></div>"
      ]
     },
     "metadata": {
      "application/vnd.databricks.v1+output": {
       "addedWidgets": {},
       "aggData": [],
       "aggError": "",
       "aggOverflow": false,
       "aggSchema": [],
       "aggSeriesLimitReached": false,
       "aggType": "",
       "arguments": {},
       "columnCustomDisplayInfos": {},
       "data": [
        [
         3,
         "Customer3",
         "Mangalore"
        ],
        [
         9,
         "Customer9",
         "Mangalore"
        ],
        [
         13,
         "Customer13",
         "Mangalore"
        ],
        [
         18,
         "Customer18",
         "Mangalore"
        ]
       ],
       "datasetInfos": [
        {
         "name": "_sqldf",
         "schema": {
          "fields": [
           {
            "metadata": {},
            "name": "customer_id",
            "nullable": true,
            "type": "integer"
           },
           {
            "metadata": {
             "__CHAR_VARCHAR_TYPE_STRING": "varchar(100)"
            },
            "name": "name",
            "nullable": true,
            "type": "string"
           },
           {
            "metadata": {
             "__CHAR_VARCHAR_TYPE_STRING": "varchar(50)"
            },
            "name": "city",
            "nullable": true,
            "type": "string"
           }
          ],
          "type": "struct"
         },
         "tableIdentifier": null,
         "typeStr": "pyspark.sql.connect.dataframe.DataFrame"
        }
       ],
       "dbfsResultPath": null,
       "isJsonSchema": true,
       "metadata": {
        "createTempViewForImplicitDf": true,
        "dataframeName": "_sqldf",
        "executionCount": 2
       },
       "overflow": false,
       "plotOptions": {
        "customPlotOptions": {},
        "displayType": "table",
        "pivotAggregation": null,
        "pivotColumns": null,
        "xColumns": null,
        "yColumns": null
       },
       "removedWidgets": [],
       "schema": [
        {
         "metadata": "{}",
         "name": "customer_id",
         "type": "\"integer\""
        },
        {
         "metadata": "{\"__CHAR_VARCHAR_TYPE_STRING\": \"varchar(100)\"}",
         "name": "name",
         "type": "\"string\""
        },
        {
         "metadata": "{\"__CHAR_VARCHAR_TYPE_STRING\": \"varchar(50)\"}",
         "name": "city",
         "type": "\"string\""
        }
       ],
       "type": "table"
      }
     },
     "output_type": "display_data"
    }
   ],
   "source": [
    "--3. Find customers from the city “Mangalore”.\n",
    "\n",
    "SELECT *\n",
    "FROM customers\n",
    "where city='Mangalore';\n"
   ]
  },
  {
   "cell_type": "code",
   "execution_count": 0,
   "metadata": {
    "application/vnd.databricks.v1+cell": {
     "cellMetadata": {
      "byteLimit": 2048000,
      "rowLimit": 10000
     },
     "inputWidgets": {},
     "nuid": "75ee0cdf-3eb0-4786-ad3e-746d03f96a9f",
     "showTitle": false,
     "tableResultSettingsMap": {},
     "title": ""
    }
   },
   "outputs": [
    {
     "output_type": "display_data",
     "data": {
      "text/html": [
       "<style scoped>\n",
       "  .table-result-container {\n",
       "    max-height: 300px;\n",
       "    overflow: auto;\n",
       "  }\n",
       "  table, th, td {\n",
       "    border: 1px solid black;\n",
       "    border-collapse: collapse;\n",
       "  }\n",
       "  th, td {\n",
       "    padding: 5px;\n",
       "  }\n",
       "  th {\n",
       "    text-align: left;\n",
       "  }\n",
       "</style><div class='table-result-container'><table class='table-result'><thead style='background-color: white'><tr><th>order_id</th><th>customer_id</th><th>order_date</th><th>status</th></tr></thead><tbody><tr><td>1010</td><td>10</td><td>2025-06-10</td><td>Shipped</td></tr><tr><td>1011</td><td>11</td><td>2025-06-11</td><td>Delivered</td></tr><tr><td>1012</td><td>12</td><td>2025-06-12</td><td>Pending</td></tr><tr><td>1013</td><td>13</td><td>2025-06-13</td><td>Delivered</td></tr><tr><td>1014</td><td>14</td><td>2025-06-14</td><td>Cancelled</td></tr><tr><td>1015</td><td>15</td><td>2025-06-15</td><td>Shipped</td></tr><tr><td>1016</td><td>16</td><td>2025-06-16</td><td>Delivered</td></tr><tr><td>1017</td><td>17</td><td>2025-06-17</td><td>Pending</td></tr><tr><td>1018</td><td>18</td><td>2025-06-18</td><td>Cancelled</td></tr><tr><td>1019</td><td>19</td><td>2025-06-19</td><td>Shipped</td></tr><tr><td>1020</td><td>20</td><td>2025-06-20</td><td>Delivered</td></tr></tbody></table></div>"
      ]
     },
     "metadata": {
      "application/vnd.databricks.v1+output": {
       "addedWidgets": {},
       "aggData": [],
       "aggError": "",
       "aggOverflow": false,
       "aggSchema": [],
       "aggSeriesLimitReached": false,
       "aggType": "",
       "arguments": {},
       "columnCustomDisplayInfos": {},
       "data": [
        [
         1010,
         10,
         "2025-06-10",
         "Shipped"
        ],
        [
         1011,
         11,
         "2025-06-11",
         "Delivered"
        ],
        [
         1012,
         12,
         "2025-06-12",
         "Pending"
        ],
        [
         1013,
         13,
         "2025-06-13",
         "Delivered"
        ],
        [
         1014,
         14,
         "2025-06-14",
         "Cancelled"
        ],
        [
         1015,
         15,
         "2025-06-15",
         "Shipped"
        ],
        [
         1016,
         16,
         "2025-06-16",
         "Delivered"
        ],
        [
         1017,
         17,
         "2025-06-17",
         "Pending"
        ],
        [
         1018,
         18,
         "2025-06-18",
         "Cancelled"
        ],
        [
         1019,
         19,
         "2025-06-19",
         "Shipped"
        ],
        [
         1020,
         20,
         "2025-06-20",
         "Delivered"
        ]
       ],
       "datasetInfos": [
        {
         "name": "_sqldf",
         "schema": {
          "fields": [
           {
            "metadata": {},
            "name": "order_id",
            "nullable": true,
            "type": "integer"
           },
           {
            "metadata": {},
            "name": "customer_id",
            "nullable": true,
            "type": "integer"
           },
           {
            "metadata": {},
            "name": "order_date",
            "nullable": true,
            "type": "date"
           },
           {
            "metadata": {
             "__CHAR_VARCHAR_TYPE_STRING": "varchar(20)"
            },
            "name": "status",
            "nullable": true,
            "type": "string"
           }
          ],
          "type": "struct"
         },
         "tableIdentifier": null,
         "typeStr": "pyspark.sql.connect.dataframe.DataFrame"
        }
       ],
       "dbfsResultPath": null,
       "isJsonSchema": true,
       "metadata": {
        "createTempViewForImplicitDf": true,
        "dataframeName": "_sqldf",
        "executionCount": 5
       },
       "overflow": false,
       "plotOptions": {
        "customPlotOptions": {},
        "displayType": "table",
        "pivotAggregation": null,
        "pivotColumns": null,
        "xColumns": null,
        "yColumns": null
       },
       "removedWidgets": [],
       "schema": [
        {
         "metadata": "{}",
         "name": "order_id",
         "type": "\"integer\""
        },
        {
         "metadata": "{}",
         "name": "customer_id",
         "type": "\"integer\""
        },
        {
         "metadata": "{}",
         "name": "order_date",
         "type": "\"date\""
        },
        {
         "metadata": "{\"__CHAR_VARCHAR_TYPE_STRING\": \"varchar(20)\"}",
         "name": "status",
         "type": "\"string\""
        }
       ],
       "type": "table"
      }
     },
     "output_type": "display_data"
    }
   ],
   "source": [
    "--4. Display all orders placed on or after '2025-06-10'.\n",
    "SELECT *\n",
    "FROM orders\n",
    "WHERE order_date>='2025-06-10'"
   ]
  },
  {
   "cell_type": "code",
   "execution_count": 0,
   "metadata": {
    "application/vnd.databricks.v1+cell": {
     "cellMetadata": {
      "byteLimit": 2048000,
      "rowLimit": 10000
     },
     "inputWidgets": {},
     "nuid": "f00a7386-733a-43b0-8aa9-0e69d885e83b",
     "showTitle": false,
     "tableResultSettingsMap": {},
     "title": ""
    }
   },
   "outputs": [
    {
     "output_type": "display_data",
     "data": {
      "text/html": [
       "<style scoped>\n",
       "  .table-result-container {\n",
       "    max-height: 300px;\n",
       "    overflow: auto;\n",
       "  }\n",
       "  table, th, td {\n",
       "    border: 1px solid black;\n",
       "    border-collapse: collapse;\n",
       "  }\n",
       "  th, td {\n",
       "    padding: 5px;\n",
       "  }\n",
       "  th {\n",
       "    text-align: left;\n",
       "  }\n",
       "</style><div class='table-result-container'><table class='table-result'><thead style='background-color: white'><tr><th>product_id</th><th>product_name</th></tr></thead><tbody><tr><td>101</td><td>Laptop</td></tr><tr><td>104</td><td>Phone</td></tr><tr><td>107</td><td>Fridge</td></tr><tr><td>112</td><td>TV</td></tr><tr><td>115</td><td>Air Conditioner</td></tr><tr><td>116</td><td>Mattress</td></tr></tbody></table></div>"
      ]
     },
     "metadata": {
      "application/vnd.databricks.v1+output": {
       "addedWidgets": {},
       "aggData": [],
       "aggError": "",
       "aggOverflow": false,
       "aggSchema": [],
       "aggSeriesLimitReached": false,
       "aggType": "",
       "arguments": {},
       "columnCustomDisplayInfos": {},
       "data": [
        [
         101,
         "Laptop"
        ],
        [
         104,
         "Phone"
        ],
        [
         107,
         "Fridge"
        ],
        [
         112,
         "TV"
        ],
        [
         115,
         "Air Conditioner"
        ],
        [
         116,
         "Mattress"
        ]
       ],
       "datasetInfos": [
        {
         "name": "_sqldf",
         "schema": {
          "fields": [
           {
            "metadata": {},
            "name": "product_id",
            "nullable": true,
            "type": "integer"
           },
           {
            "metadata": {
             "__CHAR_VARCHAR_TYPE_STRING": "varchar(100)"
            },
            "name": "product_name",
            "nullable": true,
            "type": "string"
           }
          ],
          "type": "struct"
         },
         "tableIdentifier": null,
         "typeStr": "pyspark.sql.connect.dataframe.DataFrame"
        }
       ],
       "dbfsResultPath": null,
       "isJsonSchema": true,
       "metadata": {
        "createTempViewForImplicitDf": true,
        "dataframeName": "_sqldf",
        "executionCount": 8
       },
       "overflow": false,
       "plotOptions": {
        "customPlotOptions": {},
        "displayType": "table",
        "pivotAggregation": null,
        "pivotColumns": null,
        "xColumns": null,
        "yColumns": null
       },
       "removedWidgets": [],
       "schema": [
        {
         "metadata": "{}",
         "name": "product_id",
         "type": "\"integer\""
        },
        {
         "metadata": "{\"__CHAR_VARCHAR_TYPE_STRING\": \"varchar(100)\"}",
         "name": "product_name",
         "type": "\"string\""
        }
       ],
       "type": "table"
      }
     },
     "output_type": "display_data"
    }
   ],
   "source": [
    "--5. Get products priced more than ₹10,000.\n",
    "SELECT product_id,product_name\n",
    " FROM products\n",
    " WHERE PRICE>10000"
   ]
  },
  {
   "cell_type": "markdown",
   "metadata": {
    "application/vnd.databricks.v1+cell": {
     "cellMetadata": {
      "byteLimit": 2048000,
      "rowLimit": 10000
     },
     "inputWidgets": {},
     "nuid": "0859e9df-b4d4-4b2a-86a2-fb5e9f98c105",
     "showTitle": false,
     "tableResultSettingsMap": {},
     "title": ""
    }
   },
   "source": [
    "\uD83D\uDD39 WHERE + Logical Operators"
   ]
  },
  {
   "cell_type": "code",
   "execution_count": 0,
   "metadata": {
    "application/vnd.databricks.v1+cell": {
     "cellMetadata": {
      "byteLimit": 2048000,
      "rowLimit": 10000
     },
     "inputWidgets": {},
     "nuid": "f47f7960-ce87-420c-8a54-900e2e43305b",
     "showTitle": false,
     "tableResultSettingsMap": {},
     "title": ""
    }
   },
   "outputs": [
    {
     "output_type": "display_data",
     "data": {
      "text/html": [
       "<style scoped>\n",
       "  .table-result-container {\n",
       "    max-height: 300px;\n",
       "    overflow: auto;\n",
       "  }\n",
       "  table, th, td {\n",
       "    border: 1px solid black;\n",
       "    border-collapse: collapse;\n",
       "  }\n",
       "  th, td {\n",
       "    padding: 5px;\n",
       "  }\n",
       "  th {\n",
       "    text-align: left;\n",
       "  }\n",
       "</style><div class='table-result-container'><table class='table-result'><thead style='background-color: white'><tr><th>order_id</th><th>customer_id</th><th>order_date</th><th>status</th></tr></thead><tbody><tr><td>1002</td><td>2</td><td>2025-06-02</td><td>Pending</td></tr><tr><td>1005</td><td>5</td><td>2025-06-05</td><td>Cancelled</td></tr><tr><td>1007</td><td>7</td><td>2025-06-07</td><td>Pending</td></tr><tr><td>1009</td><td>9</td><td>2025-06-09</td><td>Cancelled</td></tr><tr><td>1012</td><td>12</td><td>2025-06-12</td><td>Pending</td></tr><tr><td>1014</td><td>14</td><td>2025-06-14</td><td>Cancelled</td></tr><tr><td>1017</td><td>17</td><td>2025-06-17</td><td>Pending</td></tr><tr><td>1018</td><td>18</td><td>2025-06-18</td><td>Cancelled</td></tr></tbody></table></div>"
      ]
     },
     "metadata": {
      "application/vnd.databricks.v1+output": {
       "addedWidgets": {},
       "aggData": [],
       "aggError": "",
       "aggOverflow": false,
       "aggSchema": [],
       "aggSeriesLimitReached": false,
       "aggType": "",
       "arguments": {},
       "columnCustomDisplayInfos": {},
       "data": [
        [
         1002,
         2,
         "2025-06-02",
         "Pending"
        ],
        [
         1005,
         5,
         "2025-06-05",
         "Cancelled"
        ],
        [
         1007,
         7,
         "2025-06-07",
         "Pending"
        ],
        [
         1009,
         9,
         "2025-06-09",
         "Cancelled"
        ],
        [
         1012,
         12,
         "2025-06-12",
         "Pending"
        ],
        [
         1014,
         14,
         "2025-06-14",
         "Cancelled"
        ],
        [
         1017,
         17,
         "2025-06-17",
         "Pending"
        ],
        [
         1018,
         18,
         "2025-06-18",
         "Cancelled"
        ]
       ],
       "datasetInfos": [
        {
         "name": "_sqldf",
         "schema": {
          "fields": [
           {
            "metadata": {},
            "name": "order_id",
            "nullable": true,
            "type": "integer"
           },
           {
            "metadata": {},
            "name": "customer_id",
            "nullable": true,
            "type": "integer"
           },
           {
            "metadata": {},
            "name": "order_date",
            "nullable": true,
            "type": "date"
           },
           {
            "metadata": {
             "__CHAR_VARCHAR_TYPE_STRING": "varchar(20)"
            },
            "name": "status",
            "nullable": true,
            "type": "string"
           }
          ],
          "type": "struct"
         },
         "tableIdentifier": null,
         "typeStr": "pyspark.sql.connect.dataframe.DataFrame"
        }
       ],
       "dbfsResultPath": null,
       "isJsonSchema": true,
       "metadata": {
        "createTempViewForImplicitDf": true,
        "dataframeName": "_sqldf",
        "executionCount": 26
       },
       "overflow": false,
       "plotOptions": {
        "customPlotOptions": {},
        "displayType": "table",
        "pivotAggregation": null,
        "pivotColumns": null,
        "xColumns": null,
        "yColumns": null
       },
       "removedWidgets": [],
       "schema": [
        {
         "metadata": "{}",
         "name": "order_id",
         "type": "\"integer\""
        },
        {
         "metadata": "{}",
         "name": "customer_id",
         "type": "\"integer\""
        },
        {
         "metadata": "{}",
         "name": "order_date",
         "type": "\"date\""
        },
        {
         "metadata": "{\"__CHAR_VARCHAR_TYPE_STRING\": \"varchar(20)\"}",
         "name": "status",
         "type": "\"string\""
        }
       ],
       "type": "table"
      }
     },
     "output_type": "display_data"
    }
   ],
   "source": [
    "--6. List orders where status is either “Pending” or “Cancelled”.\n",
    "SELECT *\n",
    "FROM orders\n",
    "WHERE status IN('Pending','Cancelled')"
   ]
  },
  {
   "cell_type": "code",
   "execution_count": 0,
   "metadata": {
    "application/vnd.databricks.v1+cell": {
     "cellMetadata": {
      "byteLimit": 2048000,
      "rowLimit": 10000
     },
     "inputWidgets": {},
     "nuid": "dac87827-77f9-4c9a-a071-19c5e9efc6b5",
     "showTitle": false,
     "tableResultSettingsMap": {},
     "title": ""
    }
   },
   "outputs": [
    {
     "output_type": "display_data",
     "data": {
      "text/html": [
       "<style scoped>\n",
       "  .table-result-container {\n",
       "    max-height: 300px;\n",
       "    overflow: auto;\n",
       "  }\n",
       "  table, th, td {\n",
       "    border: 1px solid black;\n",
       "    border-collapse: collapse;\n",
       "  }\n",
       "  th, td {\n",
       "    padding: 5px;\n",
       "  }\n",
       "  th {\n",
       "    text-align: left;\n",
       "  }\n",
       "</style><div class='table-result-container'><table class='table-result'><thead style='background-color: white'><tr><th>product_id</th><th>product_name</th></tr></thead><tbody><tr><td>103</td><td>Chair</td></tr><tr><td>120</td><td>Lamp</td></tr></tbody></table></div>"
      ]
     },
     "metadata": {
      "application/vnd.databricks.v1+output": {
       "addedWidgets": {},
       "aggData": [],
       "aggError": "",
       "aggOverflow": false,
       "aggSchema": [],
       "aggSeriesLimitReached": false,
       "aggType": "",
       "arguments": {},
       "columnCustomDisplayInfos": {},
       "data": [
        [
         103,
         "Chair"
        ],
        [
         120,
         "Lamp"
        ]
       ],
       "datasetInfos": [
        {
         "name": "_sqldf",
         "schema": {
          "fields": [
           {
            "metadata": {},
            "name": "product_id",
            "nullable": true,
            "type": "integer"
           },
           {
            "metadata": {
             "__CHAR_VARCHAR_TYPE_STRING": "varchar(100)"
            },
            "name": "product_name",
            "nullable": true,
            "type": "string"
           }
          ],
          "type": "struct"
         },
         "tableIdentifier": null,
         "typeStr": "pyspark.sql.connect.dataframe.DataFrame"
        }
       ],
       "dbfsResultPath": null,
       "isJsonSchema": true,
       "metadata": {
        "createTempViewForImplicitDf": true,
        "dataframeName": "_sqldf",
        "executionCount": 14
       },
       "overflow": false,
       "plotOptions": {
        "customPlotOptions": {},
        "displayType": "table",
        "pivotAggregation": null,
        "pivotColumns": null,
        "xColumns": null,
        "yColumns": null
       },
       "removedWidgets": [],
       "schema": [
        {
         "metadata": "{}",
         "name": "product_id",
         "type": "\"integer\""
        },
        {
         "metadata": "{\"__CHAR_VARCHAR_TYPE_STRING\": \"varchar(100)\"}",
         "name": "product_name",
         "type": "\"string\""
        }
       ],
       "type": "table"
      }
     },
     "output_type": "display_data"
    }
   ],
   "source": [
    "--7. Find products in the “Furniture” category and priced below ₹5,000.\n",
    "SELECT product_id,product_name\n",
    "FROM products\n",
    "WHERE category='Furniture' AND price<5000"
   ]
  },
  {
   "cell_type": "code",
   "execution_count": 0,
   "metadata": {
    "application/vnd.databricks.v1+cell": {
     "cellMetadata": {
      "byteLimit": 2048000,
      "rowLimit": 10000
     },
     "inputWidgets": {},
     "nuid": "5b2d9467-03fb-4df0-ad7a-06f4858ca801",
     "showTitle": false,
     "tableResultSettingsMap": {},
     "title": ""
    }
   },
   "outputs": [
    {
     "output_type": "display_data",
     "data": {
      "text/html": [
       "<style scoped>\n",
       "  .table-result-container {\n",
       "    max-height: 300px;\n",
       "    overflow: auto;\n",
       "  }\n",
       "  table, th, td {\n",
       "    border: 1px solid black;\n",
       "    border-collapse: collapse;\n",
       "  }\n",
       "  th, td {\n",
       "    padding: 5px;\n",
       "  }\n",
       "  th {\n",
       "    text-align: left;\n",
       "  }\n",
       "</style><div class='table-result-container'><table class='table-result'><thead style='background-color: white'><tr><th>order_id</th><th>customer_id</th><th>order_date</th><th>status</th></tr></thead><tbody><tr><td>1002</td><td>2</td><td>2025-06-02</td><td>Pending</td></tr><tr><td>1004</td><td>4</td><td>2025-06-04</td><td>Shipped</td></tr><tr><td>1005</td><td>5</td><td>2025-06-05</td><td>Cancelled</td></tr><tr><td>1007</td><td>7</td><td>2025-06-07</td><td>Pending</td></tr><tr><td>1009</td><td>9</td><td>2025-06-09</td><td>Cancelled</td></tr><tr><td>1010</td><td>10</td><td>2025-06-10</td><td>Shipped</td></tr><tr><td>1012</td><td>12</td><td>2025-06-12</td><td>Pending</td></tr><tr><td>1014</td><td>14</td><td>2025-06-14</td><td>Cancelled</td></tr><tr><td>1015</td><td>15</td><td>2025-06-15</td><td>Shipped</td></tr><tr><td>1017</td><td>17</td><td>2025-06-17</td><td>Pending</td></tr><tr><td>1018</td><td>18</td><td>2025-06-18</td><td>Cancelled</td></tr><tr><td>1019</td><td>19</td><td>2025-06-19</td><td>Shipped</td></tr></tbody></table></div>"
      ]
     },
     "metadata": {
      "application/vnd.databricks.v1+output": {
       "addedWidgets": {},
       "aggData": [],
       "aggError": "",
       "aggOverflow": false,
       "aggSchema": [],
       "aggSeriesLimitReached": false,
       "aggType": "",
       "arguments": {},
       "columnCustomDisplayInfos": {},
       "data": [
        [
         1002,
         2,
         "2025-06-02",
         "Pending"
        ],
        [
         1004,
         4,
         "2025-06-04",
         "Shipped"
        ],
        [
         1005,
         5,
         "2025-06-05",
         "Cancelled"
        ],
        [
         1007,
         7,
         "2025-06-07",
         "Pending"
        ],
        [
         1009,
         9,
         "2025-06-09",
         "Cancelled"
        ],
        [
         1010,
         10,
         "2025-06-10",
         "Shipped"
        ],
        [
         1012,
         12,
         "2025-06-12",
         "Pending"
        ],
        [
         1014,
         14,
         "2025-06-14",
         "Cancelled"
        ],
        [
         1015,
         15,
         "2025-06-15",
         "Shipped"
        ],
        [
         1017,
         17,
         "2025-06-17",
         "Pending"
        ],
        [
         1018,
         18,
         "2025-06-18",
         "Cancelled"
        ],
        [
         1019,
         19,
         "2025-06-19",
         "Shipped"
        ]
       ],
       "datasetInfos": [
        {
         "name": "_sqldf",
         "schema": {
          "fields": [
           {
            "metadata": {},
            "name": "order_id",
            "nullable": true,
            "type": "integer"
           },
           {
            "metadata": {},
            "name": "customer_id",
            "nullable": true,
            "type": "integer"
           },
           {
            "metadata": {},
            "name": "order_date",
            "nullable": true,
            "type": "date"
           },
           {
            "metadata": {
             "__CHAR_VARCHAR_TYPE_STRING": "varchar(20)"
            },
            "name": "status",
            "nullable": true,
            "type": "string"
           }
          ],
          "type": "struct"
         },
         "tableIdentifier": null,
         "typeStr": "pyspark.sql.connect.dataframe.DataFrame"
        }
       ],
       "dbfsResultPath": null,
       "isJsonSchema": true,
       "metadata": {
        "createTempViewForImplicitDf": true,
        "dataframeName": "_sqldf",
        "executionCount": 18
       },
       "overflow": false,
       "plotOptions": {
        "customPlotOptions": {},
        "displayType": "table",
        "pivotAggregation": null,
        "pivotColumns": null,
        "xColumns": null,
        "yColumns": null
       },
       "removedWidgets": [],
       "schema": [
        {
         "metadata": "{}",
         "name": "order_id",
         "type": "\"integer\""
        },
        {
         "metadata": "{}",
         "name": "customer_id",
         "type": "\"integer\""
        },
        {
         "metadata": "{}",
         "name": "order_date",
         "type": "\"date\""
        },
        {
         "metadata": "{\"__CHAR_VARCHAR_TYPE_STRING\": \"varchar(20)\"}",
         "name": "status",
         "type": "\"string\""
        }
       ],
       "type": "table"
      }
     },
     "output_type": "display_data"
    }
   ],
   "source": [
    "--8. Get orders not marked as “Delivered”.\n",
    "SELECT *\n",
    "FROM orders\n",
    "WHERE status NOT IN ('Delivered');\n"
   ]
  },
  {
   "cell_type": "code",
   "execution_count": 0,
   "metadata": {
    "application/vnd.databricks.v1+cell": {
     "cellMetadata": {
      "byteLimit": 2048000,
      "rowLimit": 10000
     },
     "inputWidgets": {},
     "nuid": "e72d16db-07a4-4635-a2f9-5ceb7c5167a4",
     "showTitle": false,
     "tableResultSettingsMap": {},
     "title": ""
    }
   },
   "outputs": [
    {
     "output_type": "display_data",
     "data": {
      "text/html": [
       "<style scoped>\n",
       "  .table-result-container {\n",
       "    max-height: 300px;\n",
       "    overflow: auto;\n",
       "  }\n",
       "  table, th, td {\n",
       "    border: 1px solid black;\n",
       "    border-collapse: collapse;\n",
       "  }\n",
       "  th, td {\n",
       "    padding: 5px;\n",
       "  }\n",
       "  th {\n",
       "    text-align: left;\n",
       "  }\n",
       "</style><div class='table-result-container'><table class='table-result'><thead style='background-color: white'><tr><th>product_id</th><th>product_name</th></tr></thead><tbody><tr><td>102</td><td>Headphones</td></tr><tr><td>103</td><td>Chair</td></tr><tr><td>104</td><td>Phone</td></tr><tr><td>105</td><td>Table</td></tr><tr><td>106</td><td>Fan</td></tr><tr><td>107</td><td>Fridge</td></tr><tr><td>108</td><td>Mouse</td></tr><tr><td>109</td><td>Keyboard</td></tr><tr><td>110</td><td>Bottle</td></tr><tr><td>116</td><td>Mattress</td></tr><tr><td>117</td><td>Bag</td></tr><tr><td>118</td><td>Watch</td></tr><tr><td>119</td><td>Router</td></tr><tr><td>120</td><td>Lamp</td></tr></tbody></table></div>"
      ]
     },
     "metadata": {
      "application/vnd.databricks.v1+output": {
       "addedWidgets": {},
       "aggData": [],
       "aggError": "",
       "aggOverflow": false,
       "aggSchema": [],
       "aggSeriesLimitReached": false,
       "aggType": "",
       "arguments": {},
       "columnCustomDisplayInfos": {},
       "data": [
        [
         102,
         "Headphones"
        ],
        [
         103,
         "Chair"
        ],
        [
         104,
         "Phone"
        ],
        [
         105,
         "Table"
        ],
        [
         106,
         "Fan"
        ],
        [
         107,
         "Fridge"
        ],
        [
         108,
         "Mouse"
        ],
        [
         109,
         "Keyboard"
        ],
        [
         110,
         "Bottle"
        ],
        [
         116,
         "Mattress"
        ],
        [
         117,
         "Bag"
        ],
        [
         118,
         "Watch"
        ],
        [
         119,
         "Router"
        ],
        [
         120,
         "Lamp"
        ]
       ],
       "datasetInfos": [
        {
         "name": "_sqldf",
         "schema": {
          "fields": [
           {
            "metadata": {},
            "name": "product_id",
            "nullable": true,
            "type": "integer"
           },
           {
            "metadata": {
             "__CHAR_VARCHAR_TYPE_STRING": "varchar(100)"
            },
            "name": "product_name",
            "nullable": true,
            "type": "string"
           }
          ],
          "type": "struct"
         },
         "tableIdentifier": null,
         "typeStr": "pyspark.sql.connect.dataframe.DataFrame"
        }
       ],
       "dbfsResultPath": null,
       "isJsonSchema": true,
       "metadata": {
        "createTempViewForImplicitDf": true,
        "dataframeName": "_sqldf",
        "executionCount": 20
       },
       "overflow": false,
       "plotOptions": {
        "customPlotOptions": {},
        "displayType": "table",
        "pivotAggregation": null,
        "pivotColumns": null,
        "xColumns": null,
        "yColumns": null
       },
       "removedWidgets": [],
       "schema": [
        {
         "metadata": "{}",
         "name": "product_id",
         "type": "\"integer\""
        },
        {
         "metadata": "{\"__CHAR_VARCHAR_TYPE_STRING\": \"varchar(100)\"}",
         "name": "product_name",
         "type": "\"string\""
        }
       ],
       "type": "table"
      }
     },
     "output_type": "display_data"
    }
   ],
   "source": [
    "\n",
    "--9. Show products with price between ₹2,000 and ₹30,000.\n",
    "select product_id,product_name\n",
    "from products\n",
    "where price between 200 AND 30000\n"
   ]
  },
  {
   "cell_type": "code",
   "execution_count": 0,
   "metadata": {
    "application/vnd.databricks.v1+cell": {
     "cellMetadata": {
      "byteLimit": 2048000,
      "rowLimit": 10000
     },
     "inputWidgets": {},
     "nuid": "1add15b2-4146-4b86-bb17-cd999a355e9e",
     "showTitle": false,
     "tableResultSettingsMap": {},
     "title": ""
    }
   },
   "outputs": [
    {
     "output_type": "display_data",
     "data": {
      "text/html": [
       "<style scoped>\n",
       "  .table-result-container {\n",
       "    max-height: 300px;\n",
       "    overflow: auto;\n",
       "  }\n",
       "  table, th, td {\n",
       "    border: 1px solid black;\n",
       "    border-collapse: collapse;\n",
       "  }\n",
       "  th, td {\n",
       "    padding: 5px;\n",
       "  }\n",
       "  th {\n",
       "    text-align: left;\n",
       "  }\n",
       "</style><div class='table-result-container'><table class='table-result'><thead style='background-color: white'><tr><th>name</th><th>customer_id</th><th>city</th></tr></thead><tbody><tr><td>Customer3</td><td>3</td><td>Mangalore</td></tr><tr><td>Customer4</td><td>4</td><td>Mumbai</td></tr><tr><td>Customer5</td><td>5</td><td>Hyderabad</td></tr><tr><td>Customer7</td><td>7</td><td>Mumbai</td></tr><tr><td>Customer9</td><td>9</td><td>Mangalore</td></tr><tr><td>Customer10</td><td>10</td><td>Hyderabad</td></tr><tr><td>Customer12</td><td>12</td><td>Mumbai</td></tr><tr><td>Customer13</td><td>13</td><td>Mangalore</td></tr><tr><td>Customer15</td><td>15</td><td>Hyderabad</td></tr><tr><td>Customer17</td><td>17</td><td>Mumbai</td></tr><tr><td>Customer18</td><td>18</td><td>Mangalore</td></tr><tr><td>Customer20</td><td>20</td><td>Hyderabad</td></tr></tbody></table></div>"
      ]
     },
     "metadata": {
      "application/vnd.databricks.v1+output": {
       "addedWidgets": {},
       "aggData": [],
       "aggError": "",
       "aggOverflow": false,
       "aggSchema": [],
       "aggSeriesLimitReached": false,
       "aggType": "",
       "arguments": {},
       "columnCustomDisplayInfos": {},
       "data": [
        [
         "Customer3",
         3,
         "Mangalore"
        ],
        [
         "Customer4",
         4,
         "Mumbai"
        ],
        [
         "Customer5",
         5,
         "Hyderabad"
        ],
        [
         "Customer7",
         7,
         "Mumbai"
        ],
        [
         "Customer9",
         9,
         "Mangalore"
        ],
        [
         "Customer10",
         10,
         "Hyderabad"
        ],
        [
         "Customer12",
         12,
         "Mumbai"
        ],
        [
         "Customer13",
         13,
         "Mangalore"
        ],
        [
         "Customer15",
         15,
         "Hyderabad"
        ],
        [
         "Customer17",
         17,
         "Mumbai"
        ],
        [
         "Customer18",
         18,
         "Mangalore"
        ],
        [
         "Customer20",
         20,
         "Hyderabad"
        ]
       ],
       "datasetInfos": [
        {
         "name": "_sqldf",
         "schema": {
          "fields": [
           {
            "metadata": {
             "__CHAR_VARCHAR_TYPE_STRING": "varchar(100)"
            },
            "name": "name",
            "nullable": true,
            "type": "string"
           },
           {
            "metadata": {},
            "name": "customer_id",
            "nullable": true,
            "type": "integer"
           },
           {
            "metadata": {
             "__CHAR_VARCHAR_TYPE_STRING": "varchar(50)"
            },
            "name": "city",
            "nullable": true,
            "type": "string"
           }
          ],
          "type": "struct"
         },
         "tableIdentifier": null,
         "typeStr": "pyspark.sql.connect.dataframe.DataFrame"
        }
       ],
       "dbfsResultPath": null,
       "isJsonSchema": true,
       "metadata": {
        "createTempViewForImplicitDf": true,
        "dataframeName": "_sqldf",
        "executionCount": 23
       },
       "overflow": false,
       "plotOptions": {
        "customPlotOptions": {},
        "displayType": "table",
        "pivotAggregation": null,
        "pivotColumns": null,
        "xColumns": null,
        "yColumns": null
       },
       "removedWidgets": [],
       "schema": [
        {
         "metadata": "{\"__CHAR_VARCHAR_TYPE_STRING\": \"varchar(100)\"}",
         "name": "name",
         "type": "\"string\""
        },
        {
         "metadata": "{}",
         "name": "customer_id",
         "type": "\"integer\""
        },
        {
         "metadata": "{\"__CHAR_VARCHAR_TYPE_STRING\": \"varchar(50)\"}",
         "name": "city",
         "type": "\"string\""
        }
       ],
       "type": "table"
      }
     },
     "output_type": "display_data"
    }
   ],
   "source": [
    "--10. Display customers not from “Chennai” or “Bangalore”.\n",
    "SELECT name,customer_id,city\n",
    "FROM customers\n",
    "WHERE city NOT IN('Chennai','Bangalore')"
   ]
  },
  {
   "cell_type": "markdown",
   "metadata": {
    "application/vnd.databricks.v1+cell": {
     "cellMetadata": {
      "byteLimit": 2048000,
      "rowLimit": 10000
     },
     "inputWidgets": {},
     "nuid": "0a2539f1-1e1c-458b-baee-01cde65bf012",
     "showTitle": false,
     "tableResultSettingsMap": {},
     "title": ""
    }
   },
   "source": [
    "\uD83D\uDD39 Pattern Matching (LIKE)\n",
    "\n",
    "\n"
   ]
  },
  {
   "cell_type": "code",
   "execution_count": 0,
   "metadata": {
    "application/vnd.databricks.v1+cell": {
     "cellMetadata": {
      "byteLimit": 2048000,
      "rowLimit": 10000
     },
     "inputWidgets": {},
     "nuid": "4fbbb8f4-91d4-412d-9fe7-17e6d1cdf1ee",
     "showTitle": false,
     "tableResultSettingsMap": {},
     "title": ""
    }
   },
   "outputs": [
    {
     "output_type": "display_data",
     "data": {
      "text/html": [
       "<style scoped>\n",
       "  .table-result-container {\n",
       "    max-height: 300px;\n",
       "    overflow: auto;\n",
       "  }\n",
       "  table, th, td {\n",
       "    border: 1px solid black;\n",
       "    border-collapse: collapse;\n",
       "  }\n",
       "  th, td {\n",
       "    padding: 5px;\n",
       "  }\n",
       "  th {\n",
       "    text-align: left;\n",
       "  }\n",
       "</style><div class='table-result-container'><table class='table-result'><thead style='background-color: white'><tr><th>product_id</th><th>product_name</th></tr></thead><tbody><tr><td>101</td><td>Laptop</td></tr><tr><td>120</td><td>Lamp</td></tr></tbody></table></div>"
      ]
     },
     "metadata": {
      "application/vnd.databricks.v1+output": {
       "addedWidgets": {},
       "aggData": [],
       "aggError": "",
       "aggOverflow": false,
       "aggSchema": [],
       "aggSeriesLimitReached": false,
       "aggType": "",
       "arguments": {},
       "columnCustomDisplayInfos": {},
       "data": [
        [
         101,
         "Laptop"
        ],
        [
         120,
         "Lamp"
        ]
       ],
       "datasetInfos": [
        {
         "name": "_sqldf",
         "schema": {
          "fields": [
           {
            "metadata": {},
            "name": "product_id",
            "nullable": true,
            "type": "integer"
           },
           {
            "metadata": {
             "__CHAR_VARCHAR_TYPE_STRING": "varchar(100)"
            },
            "name": "product_name",
            "nullable": true,
            "type": "string"
           }
          ],
          "type": "struct"
         },
         "tableIdentifier": null,
         "typeStr": "pyspark.sql.connect.dataframe.DataFrame"
        }
       ],
       "dbfsResultPath": null,
       "isJsonSchema": true,
       "metadata": {
        "createTempViewForImplicitDf": true,
        "dataframeName": "_sqldf",
        "executionCount": 30
       },
       "overflow": false,
       "plotOptions": {
        "customPlotOptions": {},
        "displayType": "table",
        "pivotAggregation": null,
        "pivotColumns": null,
        "xColumns": null,
        "yColumns": null
       },
       "removedWidgets": [],
       "schema": [
        {
         "metadata": "{}",
         "name": "product_id",
         "type": "\"integer\""
        },
        {
         "metadata": "{\"__CHAR_VARCHAR_TYPE_STRING\": \"varchar(100)\"}",
         "name": "product_name",
         "type": "\"string\""
        }
       ],
       "type": "table"
      }
     },
     "output_type": "display_data"
    }
   ],
   "source": [
    "--11. Find product names that start with the letter ‘L’.\n",
    "SELECT product_id,product_name\n",
    "FROM products\n",
    "where product_name LIKE 'L%'"
   ]
  },
  {
   "cell_type": "code",
   "execution_count": 0,
   "metadata": {
    "application/vnd.databricks.v1+cell": {
     "cellMetadata": {
      "byteLimit": 2048000,
      "rowLimit": 10000
     },
     "inputWidgets": {},
     "nuid": "3a771b3e-d4cd-4594-b1a1-e2ee99f3f71d",
     "showTitle": false,
     "tableResultSettingsMap": {},
     "title": ""
    }
   },
   "outputs": [
    {
     "output_type": "display_data",
     "data": {
      "text/html": [
       "<style scoped>\n",
       "  .table-result-container {\n",
       "    max-height: 300px;\n",
       "    overflow: auto;\n",
       "  }\n",
       "  table, th, td {\n",
       "    border: 1px solid black;\n",
       "    border-collapse: collapse;\n",
       "  }\n",
       "  th, td {\n",
       "    padding: 5px;\n",
       "  }\n",
       "  th {\n",
       "    text-align: left;\n",
       "  }\n",
       "</style><div class='table-result-container'><table class='table-result'><thead style='background-color: white'><tr><th>name</th></tr></thead><tbody><tr><td>Customer5</td></tr><tr><td>Customer15</td></tr></tbody></table></div>"
      ]
     },
     "metadata": {
      "application/vnd.databricks.v1+output": {
       "addedWidgets": {},
       "aggData": [],
       "aggError": "",
       "aggOverflow": false,
       "aggSchema": [],
       "aggSeriesLimitReached": false,
       "aggType": "",
       "arguments": {},
       "columnCustomDisplayInfos": {},
       "data": [
        [
         "Customer5"
        ],
        [
         "Customer15"
        ]
       ],
       "datasetInfos": [
        {
         "name": "_sqldf",
         "schema": {
          "fields": [
           {
            "metadata": {
             "__CHAR_VARCHAR_TYPE_STRING": "varchar(100)"
            },
            "name": "name",
            "nullable": true,
            "type": "string"
           }
          ],
          "type": "struct"
         },
         "tableIdentifier": null,
         "typeStr": "pyspark.sql.connect.dataframe.DataFrame"
        }
       ],
       "dbfsResultPath": null,
       "isJsonSchema": true,
       "metadata": {
        "createTempViewForImplicitDf": true,
        "dataframeName": "_sqldf",
        "executionCount": 33
       },
       "overflow": false,
       "plotOptions": {
        "customPlotOptions": {},
        "displayType": "table",
        "pivotAggregation": null,
        "pivotColumns": null,
        "xColumns": null,
        "yColumns": null
       },
       "removedWidgets": [],
       "schema": [
        {
         "metadata": "{\"__CHAR_VARCHAR_TYPE_STRING\": \"varchar(100)\"}",
         "name": "name",
         "type": "\"string\""
        }
       ],
       "type": "table"
      }
     },
     "output_type": "display_data"
    }
   ],
   "source": [
    "--12. Get customers whose name ends with ‘5’.\n",
    "SELECT name\n",
    "FROM customers\n",
    "WHERE name LIKE '%5'"
   ]
  },
  {
   "cell_type": "code",
   "execution_count": 0,
   "metadata": {
    "application/vnd.databricks.v1+cell": {
     "cellMetadata": {
      "byteLimit": 2048000,
      "rowLimit": 10000
     },
     "inputWidgets": {},
     "nuid": "579ba6f4-c19d-4fa2-8486-3193edec83c7",
     "showTitle": false,
     "tableResultSettingsMap": {},
     "title": ""
    }
   },
   "outputs": [
    {
     "output_type": "display_data",
     "data": {
      "text/html": [
       "<style scoped>\n",
       "  .table-result-container {\n",
       "    max-height: 300px;\n",
       "    overflow: auto;\n",
       "  }\n",
       "  table, th, td {\n",
       "    border: 1px solid black;\n",
       "    border-collapse: collapse;\n",
       "  }\n",
       "  th, td {\n",
       "    padding: 5px;\n",
       "  }\n",
       "  th {\n",
       "    text-align: left;\n",
       "  }\n",
       "</style><div class='table-result-container'><table class='table-result'><thead style='background-color: white'><tr><th>product_name</th></tr></thead><tbody><tr><td>Headphones</td></tr><tr><td>Phone</td></tr></tbody></table></div>"
      ]
     },
     "metadata": {
      "application/vnd.databricks.v1+output": {
       "addedWidgets": {},
       "aggData": [],
       "aggError": "",
       "aggOverflow": false,
       "aggSchema": [],
       "aggSeriesLimitReached": false,
       "aggType": "",
       "arguments": {},
       "columnCustomDisplayInfos": {},
       "data": [
        [
         "Headphones"
        ],
        [
         "Phone"
        ]
       ],
       "datasetInfos": [
        {
         "name": "_sqldf",
         "schema": {
          "fields": [
           {
            "metadata": {
             "__CHAR_VARCHAR_TYPE_STRING": "varchar(100)"
            },
            "name": "product_name",
            "nullable": true,
            "type": "string"
           }
          ],
          "type": "struct"
         },
         "tableIdentifier": null,
         "typeStr": "pyspark.sql.connect.dataframe.DataFrame"
        }
       ],
       "dbfsResultPath": null,
       "isJsonSchema": true,
       "metadata": {
        "createTempViewForImplicitDf": true,
        "dataframeName": "_sqldf",
        "executionCount": 41
       },
       "overflow": false,
       "plotOptions": {
        "customPlotOptions": {},
        "displayType": "table",
        "pivotAggregation": null,
        "pivotColumns": null,
        "xColumns": null,
        "yColumns": null
       },
       "removedWidgets": [],
       "schema": [
        {
         "metadata": "{\"__CHAR_VARCHAR_TYPE_STRING\": \"varchar(100)\"}",
         "name": "product_name",
         "type": "\"string\""
        }
       ],
       "type": "table"
      }
     },
     "output_type": "display_data"
    }
   ],
   "source": [
    "--13. List products containing the word “Phone”.\n",
    "select product_name\n",
    "FROM products\n",
    "WHERE LOWER(product_name) LIKE '%phone%'\n",
    "--another method\n",
    "--select product_name\n",
    "--FROM products\n",
    "--WHERE UPPER(product_name) LIKE '%PHONE%'--"
   ]
  },
  {
   "cell_type": "markdown",
   "metadata": {
    "application/vnd.databricks.v1+cell": {
     "cellMetadata": {},
     "inputWidgets": {},
     "nuid": "93551265-1aa7-458e-b257-54531bf776e7",
     "showTitle": false,
     "tableResultSettingsMap": {},
     "title": ""
    }
   },
   "source": [
    "\uD83D\uDD39 Aggregation + GROUP BY\n"
   ]
  },
  {
   "cell_type": "code",
   "execution_count": 0,
   "metadata": {
    "application/vnd.databricks.v1+cell": {
     "cellMetadata": {
      "byteLimit": 2048000,
      "rowLimit": 10000
     },
     "inputWidgets": {},
     "nuid": "aca121a9-c9cc-44dc-832b-f774e9aab174",
     "showTitle": false,
     "tableResultSettingsMap": {},
     "title": ""
    }
   },
   "outputs": [
    {
     "output_type": "display_data",
     "data": {
      "text/html": [
       "<style scoped>\n",
       "  .table-result-container {\n",
       "    max-height: 300px;\n",
       "    overflow: auto;\n",
       "  }\n",
       "  table, th, td {\n",
       "    border: 1px solid black;\n",
       "    border-collapse: collapse;\n",
       "  }\n",
       "  th, td {\n",
       "    padding: 5px;\n",
       "  }\n",
       "  th {\n",
       "    text-align: left;\n",
       "  }\n",
       "</style><div class='table-result-container'><table class='table-result'><thead style='background-color: white'><tr><th>customer_id</th><th>orders_placed</th></tr></thead><tbody><tr><td>1</td><td>1</td></tr><tr><td>2</td><td>1</td></tr><tr><td>3</td><td>1</td></tr><tr><td>4</td><td>1</td></tr><tr><td>5</td><td>1</td></tr><tr><td>6</td><td>1</td></tr><tr><td>7</td><td>1</td></tr><tr><td>8</td><td>1</td></tr><tr><td>9</td><td>1</td></tr><tr><td>10</td><td>1</td></tr><tr><td>11</td><td>1</td></tr><tr><td>12</td><td>1</td></tr><tr><td>13</td><td>1</td></tr><tr><td>14</td><td>1</td></tr><tr><td>15</td><td>1</td></tr><tr><td>16</td><td>1</td></tr><tr><td>17</td><td>1</td></tr><tr><td>18</td><td>1</td></tr><tr><td>19</td><td>1</td></tr><tr><td>20</td><td>1</td></tr></tbody></table></div>"
      ]
     },
     "metadata": {
      "application/vnd.databricks.v1+output": {
       "addedWidgets": {},
       "aggData": [],
       "aggError": "",
       "aggOverflow": false,
       "aggSchema": [],
       "aggSeriesLimitReached": false,
       "aggType": "",
       "arguments": {},
       "columnCustomDisplayInfos": {},
       "data": [
        [
         1,
         1
        ],
        [
         2,
         1
        ],
        [
         3,
         1
        ],
        [
         4,
         1
        ],
        [
         5,
         1
        ],
        [
         6,
         1
        ],
        [
         7,
         1
        ],
        [
         8,
         1
        ],
        [
         9,
         1
        ],
        [
         10,
         1
        ],
        [
         11,
         1
        ],
        [
         12,
         1
        ],
        [
         13,
         1
        ],
        [
         14,
         1
        ],
        [
         15,
         1
        ],
        [
         16,
         1
        ],
        [
         17,
         1
        ],
        [
         18,
         1
        ],
        [
         19,
         1
        ],
        [
         20,
         1
        ]
       ],
       "datasetInfos": [
        {
         "name": "_sqldf",
         "schema": {
          "fields": [
           {
            "metadata": {},
            "name": "customer_id",
            "nullable": true,
            "type": "integer"
           },
           {
            "metadata": {},
            "name": "orders_placed",
            "nullable": false,
            "type": "long"
           }
          ],
          "type": "struct"
         },
         "tableIdentifier": null,
         "typeStr": "pyspark.sql.connect.dataframe.DataFrame"
        }
       ],
       "dbfsResultPath": null,
       "isJsonSchema": true,
       "metadata": {
        "createTempViewForImplicitDf": true,
        "dataframeName": "_sqldf",
        "executionCount": 1
       },
       "overflow": false,
       "plotOptions": {
        "customPlotOptions": {},
        "displayType": "table",
        "pivotAggregation": null,
        "pivotColumns": null,
        "xColumns": null,
        "yColumns": null
       },
       "removedWidgets": [],
       "schema": [
        {
         "metadata": "{}",
         "name": "customer_id",
         "type": "\"integer\""
        },
        {
         "metadata": "{}",
         "name": "orders_placed",
         "type": "\"long\""
        }
       ],
       "type": "table"
      }
     },
     "output_type": "display_data"
    }
   ],
   "source": [
    "--14. Count how many orders each customer has placed.\n",
    "SELECT customer_id,COUNT(customer_id) AS orders_placed\n",
    "FROM orders\n",
    "GROUP BY customer_id\n",
    "ORDER BY customer_id ASC\n"
   ]
  },
  {
   "cell_type": "code",
   "execution_count": 0,
   "metadata": {
    "application/vnd.databricks.v1+cell": {
     "cellMetadata": {
      "byteLimit": 2048000,
      "rowLimit": 10000
     },
     "inputWidgets": {},
     "nuid": "1eaa3337-778c-4f7a-ac5d-3a2fc350cc8d",
     "showTitle": false,
     "tableResultSettingsMap": {},
     "title": ""
    }
   },
   "outputs": [
    {
     "output_type": "display_data",
     "data": {
      "text/html": [
       "<style scoped>\n",
       "  .table-result-container {\n",
       "    max-height: 300px;\n",
       "    overflow: auto;\n",
       "  }\n",
       "  table, th, td {\n",
       "    border: 1px solid black;\n",
       "    border-collapse: collapse;\n",
       "  }\n",
       "  th, td {\n",
       "    padding: 5px;\n",
       "  }\n",
       "  th {\n",
       "    text-align: left;\n",
       "  }\n",
       "</style><div class='table-result-container'><table class='table-result'><thead style='background-color: white'><tr><th>product_id</th><th>total_sold</th></tr></thead><tbody><tr><td>113</td><td>10</td></tr><tr><td>111</td><td>5</td></tr><tr><td>114</td><td>4</td></tr><tr><td>108</td><td>3</td></tr><tr><td>102</td><td>2</td></tr><tr><td>117</td><td>2</td></tr><tr><td>110</td><td>2</td></tr><tr><td>119</td><td>2</td></tr><tr><td>105</td><td>2</td></tr><tr><td>103</td><td>1</td></tr><tr><td>115</td><td>1</td></tr><tr><td>109</td><td>1</td></tr><tr><td>116</td><td>1</td></tr><tr><td>101</td><td>1</td></tr><tr><td>118</td><td>1</td></tr><tr><td>104</td><td>1</td></tr><tr><td>107</td><td>1</td></tr><tr><td>120</td><td>1</td></tr><tr><td>112</td><td>1</td></tr><tr><td>106</td><td>1</td></tr></tbody></table></div>"
      ]
     },
     "metadata": {
      "application/vnd.databricks.v1+output": {
       "addedWidgets": {},
       "aggData": [],
       "aggError": "",
       "aggOverflow": false,
       "aggSchema": [],
       "aggSeriesLimitReached": false,
       "aggType": "",
       "arguments": {},
       "columnCustomDisplayInfos": {},
       "data": [
        [
         113,
         10
        ],
        [
         111,
         5
        ],
        [
         114,
         4
        ],
        [
         108,
         3
        ],
        [
         102,
         2
        ],
        [
         117,
         2
        ],
        [
         110,
         2
        ],
        [
         119,
         2
        ],
        [
         105,
         2
        ],
        [
         103,
         1
        ],
        [
         115,
         1
        ],
        [
         109,
         1
        ],
        [
         116,
         1
        ],
        [
         101,
         1
        ],
        [
         118,
         1
        ],
        [
         104,
         1
        ],
        [
         107,
         1
        ],
        [
         120,
         1
        ],
        [
         112,
         1
        ],
        [
         106,
         1
        ]
       ],
       "datasetInfos": [
        {
         "name": "_sqldf",
         "schema": {
          "fields": [
           {
            "metadata": {},
            "name": "product_id",
            "nullable": true,
            "type": "integer"
           },
           {
            "metadata": {},
            "name": "total_sold",
            "nullable": true,
            "type": "long"
           }
          ],
          "type": "struct"
         },
         "tableIdentifier": null,
         "typeStr": "pyspark.sql.connect.dataframe.DataFrame"
        }
       ],
       "dbfsResultPath": null,
       "isJsonSchema": true,
       "metadata": {
        "createTempViewForImplicitDf": true,
        "dataframeName": "_sqldf",
        "executionCount": 7
       },
       "overflow": false,
       "plotOptions": {
        "customPlotOptions": {},
        "displayType": "table",
        "pivotAggregation": null,
        "pivotColumns": null,
        "xColumns": null,
        "yColumns": null
       },
       "removedWidgets": [],
       "schema": [
        {
         "metadata": "{}",
         "name": "product_id",
         "type": "\"integer\""
        },
        {
         "metadata": "{}",
         "name": "total_sold",
         "type": "\"long\""
        }
       ],
       "type": "table"
      }
     },
     "output_type": "display_data"
    }
   ],
   "source": [
    "--15. Find total quantity of each product sold (use order_items).\n",
    "SELECT product_id,SUM(quantity) AS total_sold\n",
    " FROM order_items\n",
    " GROUP BY product_id\n",
    " ORDER BY SUM(quantity) DESC\n"
   ]
  },
  {
   "cell_type": "code",
   "execution_count": 0,
   "metadata": {
    "application/vnd.databricks.v1+cell": {
     "cellMetadata": {
      "byteLimit": 2048000,
      "rowLimit": 10000
     },
     "inputWidgets": {},
     "nuid": "83a6d519-d2ca-4a71-b293-96739fb1f536",
     "showTitle": false,
     "tableResultSettingsMap": {},
     "title": ""
    }
   },
   "outputs": [
    {
     "output_type": "display_data",
     "data": {
      "text/html": [
       "<style scoped>\n",
       "  .table-result-container {\n",
       "    max-height: 300px;\n",
       "    overflow: auto;\n",
       "  }\n",
       "  table, th, td {\n",
       "    border: 1px solid black;\n",
       "    border-collapse: collapse;\n",
       "  }\n",
       "  th, td {\n",
       "    padding: 5px;\n",
       "  }\n",
       "  th {\n",
       "    text-align: left;\n",
       "  }\n",
       "</style><div class='table-result-container'><table class='table-result'><thead style='background-color: white'><tr><th>product_name</th><th>product_id</th><th>total_amount</th></tr></thead><tbody><tr><td>Laptop</td><td>101</td><td>75000</td></tr><tr><td>TV</td><td>112</td><td>40000</td></tr><tr><td>Air Conditioner</td><td>115</td><td>35000</td></tr><tr><td>Fridge</td><td>107</td><td>30000</td></tr><tr><td>Phone</td><td>104</td><td>25000</td></tr><tr><td>Mattress</td><td>116</td><td>12000</td></tr><tr><td>Table</td><td>105</td><td>10000</td></tr><tr><td>Watch</td><td>118</td><td>5000</td></tr><tr><td>Router</td><td>119</td><td>4400</td></tr><tr><td>Bag</td><td>117</td><td>4000</td></tr><tr><td>Headphones</td><td>102</td><td>4000</td></tr><tr><td>Chair</td><td>103</td><td>3500</td></tr><tr><td>Mouse</td><td>108</td><td>2100</td></tr><tr><td>Fan</td><td>106</td><td>1800</td></tr><tr><td>Lamp</td><td>120</td><td>1600</td></tr><tr><td>Keyboard</td><td>109</td><td>1500</td></tr><tr><td>Bottle</td><td>110</td><td>600</td></tr><tr><td>Pen</td><td>113</td><td>500</td></tr><tr><td>Notebook</td><td>111</td><td>500</td></tr><tr><td>Spoon</td><td>114</td><td>320</td></tr></tbody></table></div>"
      ]
     },
     "metadata": {
      "application/vnd.databricks.v1+output": {
       "addedWidgets": {},
       "aggData": [],
       "aggError": "",
       "aggOverflow": false,
       "aggSchema": [],
       "aggSeriesLimitReached": false,
       "aggType": "",
       "arguments": {},
       "columnCustomDisplayInfos": {},
       "data": [
        [
         "Laptop",
         101,
         75000
        ],
        [
         "TV",
         112,
         40000
        ],
        [
         "Air Conditioner",
         115,
         35000
        ],
        [
         "Fridge",
         107,
         30000
        ],
        [
         "Phone",
         104,
         25000
        ],
        [
         "Mattress",
         116,
         12000
        ],
        [
         "Table",
         105,
         10000
        ],
        [
         "Watch",
         118,
         5000
        ],
        [
         "Router",
         119,
         4400
        ],
        [
         "Bag",
         117,
         4000
        ],
        [
         "Headphones",
         102,
         4000
        ],
        [
         "Chair",
         103,
         3500
        ],
        [
         "Mouse",
         108,
         2100
        ],
        [
         "Fan",
         106,
         1800
        ],
        [
         "Lamp",
         120,
         1600
        ],
        [
         "Keyboard",
         109,
         1500
        ],
        [
         "Bottle",
         110,
         600
        ],
        [
         "Pen",
         113,
         500
        ],
        [
         "Notebook",
         111,
         500
        ],
        [
         "Spoon",
         114,
         320
        ]
       ],
       "datasetInfos": [
        {
         "name": "_sqldf",
         "schema": {
          "fields": [
           {
            "metadata": {
             "__CHAR_VARCHAR_TYPE_STRING": "varchar(100)"
            },
            "name": "product_name",
            "nullable": true,
            "type": "string"
           },
           {
            "metadata": {},
            "name": "product_id",
            "nullable": true,
            "type": "integer"
           },
           {
            "metadata": {},
            "name": "total_amount",
            "nullable": true,
            "type": "long"
           }
          ],
          "type": "struct"
         },
         "tableIdentifier": null,
         "typeStr": "pyspark.sql.connect.dataframe.DataFrame"
        }
       ],
       "dbfsResultPath": null,
       "isJsonSchema": true,
       "metadata": {
        "createTempViewForImplicitDf": true,
        "dataframeName": "_sqldf",
        "executionCount": 22
       },
       "overflow": false,
       "plotOptions": {
        "customPlotOptions": {},
        "displayType": "table",
        "pivotAggregation": null,
        "pivotColumns": null,
        "xColumns": null,
        "yColumns": null
       },
       "removedWidgets": [],
       "schema": [
        {
         "metadata": "{\"__CHAR_VARCHAR_TYPE_STRING\": \"varchar(100)\"}",
         "name": "product_name",
         "type": "\"string\""
        },
        {
         "metadata": "{}",
         "name": "product_id",
         "type": "\"integer\""
        },
        {
         "metadata": "{}",
         "name": "total_amount",
         "type": "\"long\""
        }
       ],
       "type": "table"
      }
     },
     "output_type": "display_data"
    }
   ],
   "source": [
    "--16. Show the total amount earned from each product (price × quantity).\n",
    "select p.product_name,p.product_id,SUM(p.price*o.quantity )AS total_amount\n",
    "FROM products AS p JOIN order_items AS O ON p.product_id=o.product_id\n",
    "GROUP BY p.product_name,p.product_id\n",
    "ORDER BY total_amount DESC\n"
   ]
  },
  {
   "cell_type": "code",
   "execution_count": 0,
   "metadata": {
    "application/vnd.databricks.v1+cell": {
     "cellMetadata": {
      "byteLimit": 2048000,
      "rowLimit": 10000
     },
     "inputWidgets": {},
     "nuid": "6d9ae2ad-b6bd-42d1-bf79-9383f461150c",
     "showTitle": false,
     "tableResultSettingsMap": {},
     "title": ""
    }
   },
   "outputs": [
    {
     "output_type": "display_data",
     "data": {
      "text/html": [
       "<style scoped>\n",
       "  .table-result-container {\n",
       "    max-height: 300px;\n",
       "    overflow: auto;\n",
       "  }\n",
       "  table, th, td {\n",
       "    border: 1px solid black;\n",
       "    border-collapse: collapse;\n",
       "  }\n",
       "  th, td {\n",
       "    padding: 5px;\n",
       "  }\n",
       "  th {\n",
       "    text-align: left;\n",
       "  }\n",
       "</style><div class='table-result-container'><table class='table-result'><thead style='background-color: white'><tr><th>city</th><th>NUMBER_OR_CUSTOMERS</th></tr></thead><tbody><tr><td>Mumbai</td><td>4</td></tr><tr><td>Chennai</td><td>4</td></tr><tr><td>Hyderabad</td><td>4</td></tr><tr><td>Bangalore</td><td>4</td></tr><tr><td>Mangalore</td><td>4</td></tr></tbody></table></div>"
      ]
     },
     "metadata": {
      "application/vnd.databricks.v1+output": {
       "addedWidgets": {},
       "aggData": [],
       "aggError": "",
       "aggOverflow": false,
       "aggSchema": [],
       "aggSeriesLimitReached": false,
       "aggType": "",
       "arguments": {},
       "columnCustomDisplayInfos": {},
       "data": [
        [
         "Mumbai",
         4
        ],
        [
         "Chennai",
         4
        ],
        [
         "Hyderabad",
         4
        ],
        [
         "Bangalore",
         4
        ],
        [
         "Mangalore",
         4
        ]
       ],
       "datasetInfos": [
        {
         "name": "_sqldf",
         "schema": {
          "fields": [
           {
            "metadata": {
             "__CHAR_VARCHAR_TYPE_STRING": "varchar(50)"
            },
            "name": "city",
            "nullable": true,
            "type": "string"
           },
           {
            "metadata": {},
            "name": "NUMBER_OR_CUSTOMERS",
            "nullable": false,
            "type": "long"
           }
          ],
          "type": "struct"
         },
         "tableIdentifier": null,
         "typeStr": "pyspark.sql.connect.dataframe.DataFrame"
        }
       ],
       "dbfsResultPath": null,
       "isJsonSchema": true,
       "metadata": {
        "createTempViewForImplicitDf": true,
        "dataframeName": "_sqldf",
        "executionCount": 27
       },
       "overflow": false,
       "plotOptions": {
        "customPlotOptions": {},
        "displayType": "table",
        "pivotAggregation": null,
        "pivotColumns": null,
        "xColumns": null,
        "yColumns": null
       },
       "removedWidgets": [],
       "schema": [
        {
         "metadata": "{\"__CHAR_VARCHAR_TYPE_STRING\": \"varchar(50)\"}",
         "name": "city",
         "type": "\"string\""
        },
        {
         "metadata": "{}",
         "name": "NUMBER_OR_CUSTOMERS",
         "type": "\"long\""
        }
       ],
       "type": "table"
      }
     },
     "output_type": "display_data"
    }
   ],
   "source": [
    "--17. Count number of customers in each city.\n",
    "SELECT city,COUNT(*) AS NUMBER_OR_CUSTOMERS\n",
    "FROM customers\n",
    "GROUP BY city\n",
    "ORDER BY NUMBER_OR_CUSTOMERS DESC"
   ]
  },
  {
   "cell_type": "code",
   "execution_count": 0,
   "metadata": {
    "application/vnd.databricks.v1+cell": {
     "cellMetadata": {
      "byteLimit": 2048000,
      "rowLimit": 10000
     },
     "inputWidgets": {},
     "nuid": "2cd340a2-7b15-422f-bd29-253635b5e31f",
     "showTitle": false,
     "tableResultSettingsMap": {},
     "title": ""
    }
   },
   "outputs": [
    {
     "output_type": "display_data",
     "data": {
      "text/html": [
       "<style scoped>\n",
       "  .table-result-container {\n",
       "    max-height: 300px;\n",
       "    overflow: auto;\n",
       "  }\n",
       "  table, th, td {\n",
       "    border: 1px solid black;\n",
       "    border-collapse: collapse;\n",
       "  }\n",
       "  th, td {\n",
       "    padding: 5px;\n",
       "  }\n",
       "  th {\n",
       "    text-align: left;\n",
       "  }\n",
       "</style><div class='table-result-container'><table class='table-result'><thead style='background-color: white'><tr><th>status</th><th>AS</th></tr></thead><tbody><tr><td>Delivered</td><td>8</td></tr><tr><td>Cancelled</td><td>4</td></tr><tr><td>Shipped</td><td>4</td></tr><tr><td>Pending</td><td>4</td></tr></tbody></table></div>"
      ]
     },
     "metadata": {
      "application/vnd.databricks.v1+output": {
       "addedWidgets": {},
       "aggData": [],
       "aggError": "",
       "aggOverflow": false,
       "aggSchema": [],
       "aggSeriesLimitReached": false,
       "aggType": "",
       "arguments": {},
       "columnCustomDisplayInfos": {},
       "data": [
        [
         "Delivered",
         8
        ],
        [
         "Cancelled",
         4
        ],
        [
         "Shipped",
         4
        ],
        [
         "Pending",
         4
        ]
       ],
       "datasetInfos": [
        {
         "name": "_sqldf",
         "schema": {
          "fields": [
           {
            "metadata": {
             "__CHAR_VARCHAR_TYPE_STRING": "varchar(20)"
            },
            "name": "status",
            "nullable": true,
            "type": "string"
           },
           {
            "metadata": {},
            "name": "AS",
            "nullable": false,
            "type": "long"
           }
          ],
          "type": "struct"
         },
         "tableIdentifier": null,
         "typeStr": "pyspark.sql.connect.dataframe.DataFrame"
        }
       ],
       "dbfsResultPath": null,
       "isJsonSchema": true,
       "metadata": {
        "createTempViewForImplicitDf": true,
        "dataframeName": "_sqldf",
        "executionCount": 33
       },
       "overflow": false,
       "plotOptions": {
        "customPlotOptions": {},
        "displayType": "table",
        "pivotAggregation": null,
        "pivotColumns": null,
        "xColumns": null,
        "yColumns": null
       },
       "removedWidgets": [],
       "schema": [
        {
         "metadata": "{\"__CHAR_VARCHAR_TYPE_STRING\": \"varchar(20)\"}",
         "name": "status",
         "type": "\"string\""
        },
        {
         "metadata": "{}",
         "name": "AS",
         "type": "\"long\""
        }
       ],
       "type": "table"
      }
     },
     "output_type": "display_data"
    }
   ],
   "source": [
    "--18. Get number of orders in each status category.\n",
    "SELECT status,COUNT(order_id) AS \n",
    "FROM orders\n",
    "GROUP BY status\n"
   ]
  },
  {
   "cell_type": "markdown",
   "metadata": {
    "application/vnd.databricks.v1+cell": {
     "cellMetadata": {},
     "inputWidgets": {},
     "nuid": "d8f8c6d6-b17c-48ab-ba4a-17c24d0e9967",
     "showTitle": false,
     "tableResultSettingsMap": {},
     "title": ""
    }
   },
   "source": [
    "\uD83D\uDD39 HAVING + GROUP BY\n",
    "\n",
    "\n"
   ]
  },
  {
   "cell_type": "code",
   "execution_count": 0,
   "metadata": {
    "application/vnd.databricks.v1+cell": {
     "cellMetadata": {
      "byteLimit": 2048000,
      "rowLimit": 10000
     },
     "inputWidgets": {},
     "nuid": "451bf855-d5a2-469a-9760-f9b49a149477",
     "showTitle": false,
     "tableResultSettingsMap": {},
     "title": ""
    }
   },
   "outputs": [
    {
     "output_type": "display_data",
     "data": {
      "text/html": [
       "<style scoped>\n",
       "  .table-result-container {\n",
       "    max-height: 300px;\n",
       "    overflow: auto;\n",
       "  }\n",
       "  table, th, td {\n",
       "    border: 1px solid black;\n",
       "    border-collapse: collapse;\n",
       "  }\n",
       "  th, td {\n",
       "    padding: 5px;\n",
       "  }\n",
       "  th {\n",
       "    text-align: left;\n",
       "  }\n",
       "</style><div class='table-result-container'><table class='table-result'><thead style='background-color: white'><tr><th>product_name</th><th>product_id</th><th>total_quantity</th></tr></thead><tbody><tr><td>Notebook</td><td>111</td><td>5</td></tr><tr><td>Pen</td><td>113</td><td>10</td></tr><tr><td>Spoon</td><td>114</td><td>4</td></tr><tr><td>Mouse</td><td>108</td><td>3</td></tr></tbody></table></div>"
      ]
     },
     "metadata": {
      "application/vnd.databricks.v1+output": {
       "addedWidgets": {},
       "aggData": [],
       "aggError": "",
       "aggOverflow": false,
       "aggSchema": [],
       "aggSeriesLimitReached": false,
       "aggType": "",
       "arguments": {},
       "columnCustomDisplayInfos": {},
       "data": [
        [
         "Notebook",
         111,
         5
        ],
        [
         "Pen",
         113,
         10
        ],
        [
         "Spoon",
         114,
         4
        ],
        [
         "Mouse",
         108,
         3
        ]
       ],
       "datasetInfos": [
        {
         "name": "_sqldf",
         "schema": {
          "fields": [
           {
            "metadata": {
             "__CHAR_VARCHAR_TYPE_STRING": "varchar(100)"
            },
            "name": "product_name",
            "nullable": true,
            "type": "string"
           },
           {
            "metadata": {},
            "name": "product_id",
            "nullable": true,
            "type": "integer"
           },
           {
            "metadata": {},
            "name": "total_quantity",
            "nullable": true,
            "type": "long"
           }
          ],
          "type": "struct"
         },
         "tableIdentifier": null,
         "typeStr": "pyspark.sql.connect.dataframe.DataFrame"
        }
       ],
       "dbfsResultPath": null,
       "isJsonSchema": true,
       "metadata": {
        "createTempViewForImplicitDf": true,
        "dataframeName": "_sqldf",
        "executionCount": 40
       },
       "overflow": false,
       "plotOptions": {
        "customPlotOptions": {},
        "displayType": "table",
        "pivotAggregation": null,
        "pivotColumns": null,
        "xColumns": null,
        "yColumns": null
       },
       "removedWidgets": [],
       "schema": [
        {
         "metadata": "{\"__CHAR_VARCHAR_TYPE_STRING\": \"varchar(100)\"}",
         "name": "product_name",
         "type": "\"string\""
        },
        {
         "metadata": "{}",
         "name": "product_id",
         "type": "\"integer\""
        },
        {
         "metadata": "{}",
         "name": "total_quantity",
         "type": "\"long\""
        }
       ],
       "type": "table"
      }
     },
     "output_type": "display_data"
    }
   ],
   "source": [
    "--19. Show products that were ordered more than 2 times (total quantity)\n",
    "SELECT p.product_name, oi.product_id, SUM(oi.quantity) AS total_quantity\n",
    "FROM order_items AS oi\n",
    "JOIN products AS p ON oi.product_id = p.product_id\n",
    "GROUP BY p.product_name, oi.product_id\n",
    "HAVING total_quantity > 2;"
   ]
  },
  {
   "cell_type": "code",
   "execution_count": 0,
   "metadata": {
    "application/vnd.databricks.v1+cell": {
     "cellMetadata": {
      "byteLimit": 2048000,
      "rowLimit": 10000
     },
     "inputWidgets": {},
     "nuid": "771f9942-8eb1-486d-9988-7ac814a21e49",
     "showTitle": false,
     "tableResultSettingsMap": {},
     "title": ""
    }
   },
   "outputs": [
    {
     "output_type": "display_data",
     "data": {
      "text/html": [
       "<style scoped>\n",
       "  .table-result-container {\n",
       "    max-height: 300px;\n",
       "    overflow: auto;\n",
       "  }\n",
       "  table, th, td {\n",
       "    border: 1px solid black;\n",
       "    border-collapse: collapse;\n",
       "  }\n",
       "  th, td {\n",
       "    padding: 5px;\n",
       "  }\n",
       "  th {\n",
       "    text-align: left;\n",
       "  }\n",
       "</style><div class='table-result-container'><table class='table-result'><thead style='background-color: white'><tr><th>city</th><th>CUSTOMER_COUNT</th></tr></thead><tbody><tr><td>Bangalore</td><td>4</td></tr><tr><td>Chennai</td><td>4</td></tr><tr><td>Mumbai</td><td>4</td></tr><tr><td>Hyderabad</td><td>4</td></tr><tr><td>Mangalore</td><td>4</td></tr></tbody></table></div>"
      ]
     },
     "metadata": {
      "application/vnd.databricks.v1+output": {
       "addedWidgets": {},
       "aggData": [],
       "aggError": "",
       "aggOverflow": false,
       "aggSchema": [],
       "aggSeriesLimitReached": false,
       "aggType": "",
       "arguments": {},
       "columnCustomDisplayInfos": {},
       "data": [
        [
         "Bangalore",
         4
        ],
        [
         "Chennai",
         4
        ],
        [
         "Mumbai",
         4
        ],
        [
         "Hyderabad",
         4
        ],
        [
         "Mangalore",
         4
        ]
       ],
       "datasetInfos": [
        {
         "name": "_sqldf",
         "schema": {
          "fields": [
           {
            "metadata": {
             "__CHAR_VARCHAR_TYPE_STRING": "varchar(50)"
            },
            "name": "city",
            "nullable": true,
            "type": "string"
           },
           {
            "metadata": {},
            "name": "CUSTOMER_COUNT",
            "nullable": false,
            "type": "long"
           }
          ],
          "type": "struct"
         },
         "tableIdentifier": null,
         "typeStr": "pyspark.sql.connect.dataframe.DataFrame"
        }
       ],
       "dbfsResultPath": null,
       "isJsonSchema": true,
       "metadata": {
        "createTempViewForImplicitDf": true,
        "dataframeName": "_sqldf",
        "executionCount": 43
       },
       "overflow": false,
       "plotOptions": {
        "customPlotOptions": {},
        "displayType": "table",
        "pivotAggregation": null,
        "pivotColumns": null,
        "xColumns": null,
        "yColumns": null
       },
       "removedWidgets": [],
       "schema": [
        {
         "metadata": "{\"__CHAR_VARCHAR_TYPE_STRING\": \"varchar(50)\"}",
         "name": "city",
         "type": "\"string\""
        },
        {
         "metadata": "{}",
         "name": "CUSTOMER_COUNT",
         "type": "\"long\""
        }
       ],
       "type": "table"
      }
     },
     "output_type": "display_data"
    }
   ],
   "source": [
    "--20. List cities having more than 3 customers.\n",
    "SELECT city,COUNT(Customer_id) AS CUSTOMER_COUNT\n",
    "FROM customers\n",
    "GROUP BY city\n",
    "HAVING CUSTOMER_COUNT>3;\n"
   ]
  },
  {
   "cell_type": "markdown",
   "metadata": {
    "application/vnd.databricks.v1+cell": {
     "cellMetadata": {},
     "inputWidgets": {},
     "nuid": "e82a2a04-3490-4e03-a982-fb9ed260337f",
     "showTitle": false,
     "tableResultSettingsMap": {},
     "title": ""
    }
   },
   "source": [
    "\uD83D\uDD39 CASE Statements\n"
   ]
  },
  {
   "cell_type": "code",
   "execution_count": 0,
   "metadata": {
    "application/vnd.databricks.v1+cell": {
     "cellMetadata": {
      "byteLimit": 2048000,
      "rowLimit": 10000
     },
     "inputWidgets": {},
     "nuid": "29f3fcdd-f6da-48ad-9a1d-3c05e4dcde30",
     "showTitle": false,
     "tableResultSettingsMap": {},
     "title": ""
    }
   },
   "outputs": [
    {
     "output_type": "display_data",
     "data": {
      "text/html": [
       "<style scoped>\n",
       "  .table-result-container {\n",
       "    max-height: 300px;\n",
       "    overflow: auto;\n",
       "  }\n",
       "  table, th, td {\n",
       "    border: 1px solid black;\n",
       "    border-collapse: collapse;\n",
       "  }\n",
       "  th, td {\n",
       "    padding: 5px;\n",
       "  }\n",
       "  th {\n",
       "    text-align: left;\n",
       "  }\n",
       "</style><div class='table-result-container'><table class='table-result'><thead style='background-color: white'><tr><th>price</th><th>product_name</th><th>PRODUCT_PRICE_REVIEW</th></tr></thead><tbody><tr><td>75000</td><td>Laptop</td><td>HIGH</td></tr><tr><td>2000</td><td>Headphones</td><td>LOW</td></tr><tr><td>3500</td><td>Chair</td><td>LOW</td></tr><tr><td>25000</td><td>Phone</td><td>LOW</td></tr><tr><td>5000</td><td>Table</td><td>LOW</td></tr><tr><td>1800</td><td>Fan</td><td>LOW</td></tr><tr><td>30000</td><td>Fridge</td><td>LOW</td></tr><tr><td>700</td><td>Mouse</td><td>LOW</td></tr><tr><td>1500</td><td>Keyboard</td><td>LOW</td></tr><tr><td>300</td><td>Bottle</td><td>LOW</td></tr><tr><td>100</td><td>Notebook</td><td>LOW</td></tr><tr><td>40000</td><td>TV</td><td>HIGH</td></tr><tr><td>50</td><td>Pen</td><td>LOW</td></tr><tr><td>80</td><td>Spoon</td><td>LOW</td></tr><tr><td>35000</td><td>Air Conditioner</td><td>HIGH</td></tr><tr><td>12000</td><td>Mattress</td><td>LOW</td></tr><tr><td>2000</td><td>Bag</td><td>LOW</td></tr><tr><td>5000</td><td>Watch</td><td>LOW</td></tr><tr><td>2200</td><td>Router</td><td>LOW</td></tr><tr><td>1600</td><td>Lamp</td><td>LOW</td></tr></tbody></table></div>"
      ]
     },
     "metadata": {
      "application/vnd.databricks.v1+output": {
       "addedWidgets": {},
       "aggData": [],
       "aggError": "",
       "aggOverflow": false,
       "aggSchema": [],
       "aggSeriesLimitReached": false,
       "aggType": "",
       "arguments": {},
       "columnCustomDisplayInfos": {},
       "data": [
        [
         75000,
         "Laptop",
         "HIGH"
        ],
        [
         2000,
         "Headphones",
         "LOW"
        ],
        [
         3500,
         "Chair",
         "LOW"
        ],
        [
         25000,
         "Phone",
         "LOW"
        ],
        [
         5000,
         "Table",
         "LOW"
        ],
        [
         1800,
         "Fan",
         "LOW"
        ],
        [
         30000,
         "Fridge",
         "LOW"
        ],
        [
         700,
         "Mouse",
         "LOW"
        ],
        [
         1500,
         "Keyboard",
         "LOW"
        ],
        [
         300,
         "Bottle",
         "LOW"
        ],
        [
         100,
         "Notebook",
         "LOW"
        ],
        [
         40000,
         "TV",
         "HIGH"
        ],
        [
         50,
         "Pen",
         "LOW"
        ],
        [
         80,
         "Spoon",
         "LOW"
        ],
        [
         35000,
         "Air Conditioner",
         "HIGH"
        ],
        [
         12000,
         "Mattress",
         "LOW"
        ],
        [
         2000,
         "Bag",
         "LOW"
        ],
        [
         5000,
         "Watch",
         "LOW"
        ],
        [
         2200,
         "Router",
         "LOW"
        ],
        [
         1600,
         "Lamp",
         "LOW"
        ]
       ],
       "datasetInfos": [
        {
         "name": "_sqldf",
         "schema": {
          "fields": [
           {
            "metadata": {},
            "name": "price",
            "nullable": true,
            "type": "integer"
           },
           {
            "metadata": {
             "__CHAR_VARCHAR_TYPE_STRING": "varchar(100)"
            },
            "name": "product_name",
            "nullable": true,
            "type": "string"
           },
           {
            "metadata": {},
            "name": "PRODUCT_PRICE_REVIEW",
            "nullable": false,
            "type": "string"
           }
          ],
          "type": "struct"
         },
         "tableIdentifier": null,
         "typeStr": "pyspark.sql.connect.dataframe.DataFrame"
        }
       ],
       "dbfsResultPath": null,
       "isJsonSchema": true,
       "metadata": {
        "createTempViewForImplicitDf": true,
        "dataframeName": "_sqldf",
        "executionCount": 51
       },
       "overflow": false,
       "plotOptions": {
        "customPlotOptions": {},
        "displayType": "table",
        "pivotAggregation": null,
        "pivotColumns": null,
        "xColumns": null,
        "yColumns": null
       },
       "removedWidgets": [],
       "schema": [
        {
         "metadata": "{}",
         "name": "price",
         "type": "\"integer\""
        },
        {
         "metadata": "{\"__CHAR_VARCHAR_TYPE_STRING\": \"varchar(100)\"}",
         "name": "product_name",
         "type": "\"string\""
        },
        {
         "metadata": "{}",
         "name": "PRODUCT_PRICE_REVIEW",
         "type": "\"string\""
        }
       ],
       "type": "table"
      }
     },
     "output_type": "display_data"
    }
   ],
   "source": [
    "--21. Create a column that shows ‘High’ if product price > ₹30,000, else ‘Low’.\n",
    "select price,product_name,\n",
    "CASE\n",
    "  when price >30000 then 'HIGH'\n",
    "  ELSE 'LOW'\n",
    "END AS PRODUCT_PRICE_REVIEW\n",
    "FROM products\n"
   ]
  },
  {
   "cell_type": "code",
   "execution_count": 0,
   "metadata": {
    "application/vnd.databricks.v1+cell": {
     "cellMetadata": {
      "byteLimit": 2048000,
      "rowLimit": 10000
     },
     "inputWidgets": {},
     "nuid": "8ccb636d-d902-4ae6-abb7-4e0b56407b42",
     "showTitle": false,
     "tableResultSettingsMap": {},
     "title": ""
    }
   },
   "outputs": [
    {
     "output_type": "display_data",
     "data": {
      "text/html": [
       "<style scoped>\n",
       "  .table-result-container {\n",
       "    max-height: 300px;\n",
       "    overflow: auto;\n",
       "  }\n",
       "  table, th, td {\n",
       "    border: 1px solid black;\n",
       "    border-collapse: collapse;\n",
       "  }\n",
       "  th, td {\n",
       "    padding: 5px;\n",
       "  }\n",
       "  th {\n",
       "    text-align: left;\n",
       "  }\n",
       "</style><div class='table-result-container'><table class='table-result'><thead style='background-color: white'><tr><th>order_id</th><th>order_status</th></tr></thead><tbody><tr><td>1001</td><td>Completed</td></tr><tr><td>1002</td><td>Open</td></tr><tr><td>1003</td><td>Completed</td></tr><tr><td>1004</td><td>Open</td></tr><tr><td>1005</td><td>Open</td></tr><tr><td>1006</td><td>Completed</td></tr><tr><td>1007</td><td>Open</td></tr><tr><td>1008</td><td>Completed</td></tr><tr><td>1009</td><td>Open</td></tr><tr><td>1010</td><td>Open</td></tr><tr><td>1011</td><td>Completed</td></tr><tr><td>1012</td><td>Open</td></tr><tr><td>1013</td><td>Completed</td></tr><tr><td>1014</td><td>Open</td></tr><tr><td>1015</td><td>Open</td></tr><tr><td>1016</td><td>Completed</td></tr><tr><td>1017</td><td>Open</td></tr><tr><td>1018</td><td>Open</td></tr><tr><td>1019</td><td>Open</td></tr><tr><td>1020</td><td>Completed</td></tr></tbody></table></div>"
      ]
     },
     "metadata": {
      "application/vnd.databricks.v1+output": {
       "addedWidgets": {},
       "aggData": [],
       "aggError": "",
       "aggOverflow": false,
       "aggSchema": [],
       "aggSeriesLimitReached": false,
       "aggType": "",
       "arguments": {},
       "columnCustomDisplayInfos": {},
       "data": [
        [
         1001,
         "Completed"
        ],
        [
         1002,
         "Open"
        ],
        [
         1003,
         "Completed"
        ],
        [
         1004,
         "Open"
        ],
        [
         1005,
         "Open"
        ],
        [
         1006,
         "Completed"
        ],
        [
         1007,
         "Open"
        ],
        [
         1008,
         "Completed"
        ],
        [
         1009,
         "Open"
        ],
        [
         1010,
         "Open"
        ],
        [
         1011,
         "Completed"
        ],
        [
         1012,
         "Open"
        ],
        [
         1013,
         "Completed"
        ],
        [
         1014,
         "Open"
        ],
        [
         1015,
         "Open"
        ],
        [
         1016,
         "Completed"
        ],
        [
         1017,
         "Open"
        ],
        [
         1018,
         "Open"
        ],
        [
         1019,
         "Open"
        ],
        [
         1020,
         "Completed"
        ]
       ],
       "datasetInfos": [
        {
         "name": "_sqldf",
         "schema": {
          "fields": [
           {
            "metadata": {},
            "name": "order_id",
            "nullable": true,
            "type": "integer"
           },
           {
            "metadata": {},
            "name": "order_status",
            "nullable": false,
            "type": "string"
           }
          ],
          "type": "struct"
         },
         "tableIdentifier": null,
         "typeStr": "pyspark.sql.connect.dataframe.DataFrame"
        }
       ],
       "dbfsResultPath": null,
       "isJsonSchema": true,
       "metadata": {
        "createTempViewForImplicitDf": true,
        "dataframeName": "_sqldf",
        "executionCount": 57
       },
       "overflow": false,
       "plotOptions": {
        "customPlotOptions": {},
        "displayType": "table",
        "pivotAggregation": null,
        "pivotColumns": null,
        "xColumns": null,
        "yColumns": null
       },
       "removedWidgets": [],
       "schema": [
        {
         "metadata": "{}",
         "name": "order_id",
         "type": "\"integer\""
        },
        {
         "metadata": "{}",
         "name": "order_status",
         "type": "\"string\""
        }
       ],
       "type": "table"
      }
     },
     "output_type": "display_data"
    }
   ],
   "source": [
    "--22. Show order status as: 'Completed' if Delivered, else 'Open'.\n",
    "SELECT order_id,\n",
    "CASE\n",
    "  WHEN status ='Delivered' THEN 'Completed'\n",
    "  ELSE 'Open'\n",
    "END as order_status\n",
    "FROM orders"
   ]
  },
  {
   "cell_type": "markdown",
   "metadata": {
    "application/vnd.databricks.v1+cell": {
     "cellMetadata": {},
     "inputWidgets": {},
     "nuid": "c60db0a2-d71e-41da-8bc3-8dc346b1d457",
     "showTitle": false,
     "tableResultSettingsMap": {},
     "title": ""
    }
   },
   "source": [
    "\n",
    "\uD83D\uDD39 Joins Practice (INNER JOIN style)"
   ]
  },
  {
   "cell_type": "code",
   "execution_count": 0,
   "metadata": {
    "application/vnd.databricks.v1+cell": {
     "cellMetadata": {
      "byteLimit": 2048000,
      "rowLimit": 10000
     },
     "inputWidgets": {},
     "nuid": "4ecdf537-cc30-44a4-89a2-bb60a0972045",
     "showTitle": false,
     "tableResultSettingsMap": {},
     "title": ""
    }
   },
   "outputs": [
    {
     "output_type": "display_data",
     "data": {
      "text/html": [
       "<style scoped>\n",
       "  .table-result-container {\n",
       "    max-height: 300px;\n",
       "    overflow: auto;\n",
       "  }\n",
       "  table, th, td {\n",
       "    border: 1px solid black;\n",
       "    border-collapse: collapse;\n",
       "  }\n",
       "  th, td {\n",
       "    padding: 5px;\n",
       "  }\n",
       "  th {\n",
       "    text-align: left;\n",
       "  }\n",
       "</style><div class='table-result-container'><table class='table-result'><thead style='background-color: white'><tr><th>name</th><th>order_id</th><th>order_date</th><th>status</th></tr></thead><tbody><tr><td>Customer9</td><td>1009</td><td>2025-06-09</td><td>Cancelled</td></tr><tr><td>Customer5</td><td>1005</td><td>2025-06-05</td><td>Cancelled</td></tr><tr><td>Customer18</td><td>1018</td><td>2025-06-18</td><td>Cancelled</td></tr><tr><td>Customer14</td><td>1014</td><td>2025-06-14</td><td>Cancelled</td></tr><tr><td>Customer1</td><td>1001</td><td>2025-06-01</td><td>Delivered</td></tr><tr><td>Customer16</td><td>1016</td><td>2025-06-16</td><td>Delivered</td></tr><tr><td>Customer13</td><td>1013</td><td>2025-06-13</td><td>Delivered</td></tr><tr><td>Customer8</td><td>1008</td><td>2025-06-08</td><td>Delivered</td></tr><tr><td>Customer11</td><td>1011</td><td>2025-06-11</td><td>Delivered</td></tr><tr><td>Customer20</td><td>1020</td><td>2025-06-20</td><td>Delivered</td></tr><tr><td>Customer3</td><td>1003</td><td>2025-06-03</td><td>Delivered</td></tr><tr><td>Customer6</td><td>1006</td><td>2025-06-06</td><td>Delivered</td></tr><tr><td>Customer12</td><td>1012</td><td>2025-06-12</td><td>Pending</td></tr><tr><td>Customer7</td><td>1007</td><td>2025-06-07</td><td>Pending</td></tr><tr><td>Customer2</td><td>1002</td><td>2025-06-02</td><td>Pending</td></tr><tr><td>Customer17</td><td>1017</td><td>2025-06-17</td><td>Pending</td></tr><tr><td>Customer4</td><td>1004</td><td>2025-06-04</td><td>Shipped</td></tr><tr><td>Customer10</td><td>1010</td><td>2025-06-10</td><td>Shipped</td></tr><tr><td>Customer15</td><td>1015</td><td>2025-06-15</td><td>Shipped</td></tr><tr><td>Customer19</td><td>1019</td><td>2025-06-19</td><td>Shipped</td></tr></tbody></table></div>"
      ]
     },
     "metadata": {
      "application/vnd.databricks.v1+output": {
       "addedWidgets": {},
       "aggData": [],
       "aggError": "",
       "aggOverflow": false,
       "aggSchema": [],
       "aggSeriesLimitReached": false,
       "aggType": "",
       "arguments": {},
       "columnCustomDisplayInfos": {},
       "data": [
        [
         "Customer9",
         1009,
         "2025-06-09",
         "Cancelled"
        ],
        [
         "Customer5",
         1005,
         "2025-06-05",
         "Cancelled"
        ],
        [
         "Customer18",
         1018,
         "2025-06-18",
         "Cancelled"
        ],
        [
         "Customer14",
         1014,
         "2025-06-14",
         "Cancelled"
        ],
        [
         "Customer1",
         1001,
         "2025-06-01",
         "Delivered"
        ],
        [
         "Customer16",
         1016,
         "2025-06-16",
         "Delivered"
        ],
        [
         "Customer13",
         1013,
         "2025-06-13",
         "Delivered"
        ],
        [
         "Customer8",
         1008,
         "2025-06-08",
         "Delivered"
        ],
        [
         "Customer11",
         1011,
         "2025-06-11",
         "Delivered"
        ],
        [
         "Customer20",
         1020,
         "2025-06-20",
         "Delivered"
        ],
        [
         "Customer3",
         1003,
         "2025-06-03",
         "Delivered"
        ],
        [
         "Customer6",
         1006,
         "2025-06-06",
         "Delivered"
        ],
        [
         "Customer12",
         1012,
         "2025-06-12",
         "Pending"
        ],
        [
         "Customer7",
         1007,
         "2025-06-07",
         "Pending"
        ],
        [
         "Customer2",
         1002,
         "2025-06-02",
         "Pending"
        ],
        [
         "Customer17",
         1017,
         "2025-06-17",
         "Pending"
        ],
        [
         "Customer4",
         1004,
         "2025-06-04",
         "Shipped"
        ],
        [
         "Customer10",
         1010,
         "2025-06-10",
         "Shipped"
        ],
        [
         "Customer15",
         1015,
         "2025-06-15",
         "Shipped"
        ],
        [
         "Customer19",
         1019,
         "2025-06-19",
         "Shipped"
        ]
       ],
       "datasetInfos": [
        {
         "name": "_sqldf",
         "schema": {
          "fields": [
           {
            "metadata": {
             "__CHAR_VARCHAR_TYPE_STRING": "varchar(100)"
            },
            "name": "name",
            "nullable": true,
            "type": "string"
           },
           {
            "metadata": {},
            "name": "order_id",
            "nullable": true,
            "type": "integer"
           },
           {
            "metadata": {},
            "name": "order_date",
            "nullable": true,
            "type": "date"
           },
           {
            "metadata": {
             "__CHAR_VARCHAR_TYPE_STRING": "varchar(20)"
            },
            "name": "status",
            "nullable": true,
            "type": "string"
           }
          ],
          "type": "struct"
         },
         "tableIdentifier": null,
         "typeStr": "pyspark.sql.connect.dataframe.DataFrame"
        }
       ],
       "dbfsResultPath": null,
       "isJsonSchema": true,
       "metadata": {
        "createTempViewForImplicitDf": true,
        "dataframeName": "_sqldf",
        "executionCount": 62
       },
       "overflow": false,
       "plotOptions": {
        "customPlotOptions": {},
        "displayType": "table",
        "pivotAggregation": null,
        "pivotColumns": null,
        "xColumns": null,
        "yColumns": null
       },
       "removedWidgets": [],
       "schema": [
        {
         "metadata": "{\"__CHAR_VARCHAR_TYPE_STRING\": \"varchar(100)\"}",
         "name": "name",
         "type": "\"string\""
        },
        {
         "metadata": "{}",
         "name": "order_id",
         "type": "\"integer\""
        },
        {
         "metadata": "{}",
         "name": "order_date",
         "type": "\"date\""
        },
        {
         "metadata": "{\"__CHAR_VARCHAR_TYPE_STRING\": \"varchar(20)\"}",
         "name": "status",
         "type": "\"string\""
        }
       ],
       "type": "table"
      }
     },
     "output_type": "display_data"
    }
   ],
   "source": [
    "--23. Show order details with customer names.\n",
    "select c.name,o.order_id,o.order_date,o.status\n",
    "FROM customers AS c JOIN orders as o ON c.customer_id=o.customer_id\n",
    "order by o.status"
   ]
  },
  {
   "cell_type": "code",
   "execution_count": 0,
   "metadata": {
    "application/vnd.databricks.v1+cell": {
     "cellMetadata": {
      "byteLimit": 2048000,
      "rowLimit": 10000
     },
     "inputWidgets": {},
     "nuid": "5d3de47c-d7f1-4bad-83ad-c9980234b2f0",
     "showTitle": false,
     "tableResultSettingsMap": {},
     "title": ""
    }
   },
   "outputs": [
    {
     "output_type": "display_data",
     "data": {
      "text/html": [
       "<style scoped>\n",
       "  .table-result-container {\n",
       "    max-height: 300px;\n",
       "    overflow: auto;\n",
       "  }\n",
       "  table, th, td {\n",
       "    border: 1px solid black;\n",
       "    border-collapse: collapse;\n",
       "  }\n",
       "  th, td {\n",
       "    padding: 5px;\n",
       "  }\n",
       "  th {\n",
       "    text-align: left;\n",
       "  }\n",
       "</style><div class='table-result-container'><table class='table-result'><thead style='background-color: white'><tr><th>product_id</th><th>product_name</th><th>quantity</th></tr></thead><tbody><tr><td>101</td><td>Laptop</td><td>1</td></tr><tr><td>102</td><td>Headphones</td><td>2</td></tr><tr><td>103</td><td>Chair</td><td>1</td></tr><tr><td>104</td><td>Phone</td><td>1</td></tr><tr><td>105</td><td>Table</td><td>2</td></tr><tr><td>106</td><td>Fan</td><td>1</td></tr><tr><td>107</td><td>Fridge</td><td>1</td></tr><tr><td>108</td><td>Mouse</td><td>3</td></tr><tr><td>109</td><td>Keyboard</td><td>1</td></tr><tr><td>110</td><td>Bottle</td><td>2</td></tr><tr><td>111</td><td>Notebook</td><td>5</td></tr><tr><td>112</td><td>TV</td><td>1</td></tr><tr><td>113</td><td>Pen</td><td>10</td></tr><tr><td>114</td><td>Spoon</td><td>4</td></tr><tr><td>115</td><td>Air Conditioner</td><td>1</td></tr><tr><td>116</td><td>Mattress</td><td>1</td></tr><tr><td>117</td><td>Bag</td><td>2</td></tr><tr><td>118</td><td>Watch</td><td>1</td></tr><tr><td>119</td><td>Router</td><td>2</td></tr><tr><td>120</td><td>Lamp</td><td>1</td></tr></tbody></table></div>"
      ]
     },
     "metadata": {
      "application/vnd.databricks.v1+output": {
       "addedWidgets": {},
       "aggData": [],
       "aggError": "",
       "aggOverflow": false,
       "aggSchema": [],
       "aggSeriesLimitReached": false,
       "aggType": "",
       "arguments": {},
       "columnCustomDisplayInfos": {},
       "data": [
        [
         101,
         "Laptop",
         1
        ],
        [
         102,
         "Headphones",
         2
        ],
        [
         103,
         "Chair",
         1
        ],
        [
         104,
         "Phone",
         1
        ],
        [
         105,
         "Table",
         2
        ],
        [
         106,
         "Fan",
         1
        ],
        [
         107,
         "Fridge",
         1
        ],
        [
         108,
         "Mouse",
         3
        ],
        [
         109,
         "Keyboard",
         1
        ],
        [
         110,
         "Bottle",
         2
        ],
        [
         111,
         "Notebook",
         5
        ],
        [
         112,
         "TV",
         1
        ],
        [
         113,
         "Pen",
         10
        ],
        [
         114,
         "Spoon",
         4
        ],
        [
         115,
         "Air Conditioner",
         1
        ],
        [
         116,
         "Mattress",
         1
        ],
        [
         117,
         "Bag",
         2
        ],
        [
         118,
         "Watch",
         1
        ],
        [
         119,
         "Router",
         2
        ],
        [
         120,
         "Lamp",
         1
        ]
       ],
       "datasetInfos": [
        {
         "name": "_sqldf",
         "schema": {
          "fields": [
           {
            "metadata": {},
            "name": "product_id",
            "nullable": true,
            "type": "integer"
           },
           {
            "metadata": {
             "__CHAR_VARCHAR_TYPE_STRING": "varchar(100)"
            },
            "name": "product_name",
            "nullable": true,
            "type": "string"
           },
           {
            "metadata": {},
            "name": "quantity",
            "nullable": true,
            "type": "integer"
           }
          ],
          "type": "struct"
         },
         "tableIdentifier": null,
         "typeStr": "pyspark.sql.connect.dataframe.DataFrame"
        }
       ],
       "dbfsResultPath": null,
       "isJsonSchema": true,
       "metadata": {
        "createTempViewForImplicitDf": true,
        "dataframeName": "_sqldf",
        "executionCount": 66
       },
       "overflow": false,
       "plotOptions": {
        "customPlotOptions": {},
        "displayType": "table",
        "pivotAggregation": null,
        "pivotColumns": null,
        "xColumns": null,
        "yColumns": null
       },
       "removedWidgets": [],
       "schema": [
        {
         "metadata": "{}",
         "name": "product_id",
         "type": "\"integer\""
        },
        {
         "metadata": "{\"__CHAR_VARCHAR_TYPE_STRING\": \"varchar(100)\"}",
         "name": "product_name",
         "type": "\"string\""
        },
        {
         "metadata": "{}",
         "name": "quantity",
         "type": "\"integer\""
        }
       ],
       "type": "table"
      }
     },
     "output_type": "display_data"
    }
   ],
   "source": [
    "--24. List all product names with their quantities ordered.\n",
    "SELECT p.product_id,P.product_name,o.quantity\n",
    "FROM products As P JOIN order_items AS O ON P.product_id=O.product_id"
   ]
  },
  {
   "cell_type": "code",
   "execution_count": 0,
   "metadata": {
    "application/vnd.databricks.v1+cell": {
     "cellMetadata": {
      "byteLimit": 2048000,
      "rowLimit": 10000
     },
     "inputWidgets": {},
     "nuid": "ae426116-32af-41e6-b100-e777444ce397",
     "showTitle": false,
     "tableResultSettingsMap": {},
     "title": ""
    }
   },
   "outputs": [
    {
     "output_type": "display_data",
     "data": {
      "text/html": [
       "<style scoped>\n",
       "  .table-result-container {\n",
       "    max-height: 300px;\n",
       "    overflow: auto;\n",
       "  }\n",
       "  table, th, td {\n",
       "    border: 1px solid black;\n",
       "    border-collapse: collapse;\n",
       "  }\n",
       "  th, td {\n",
       "    padding: 5px;\n",
       "  }\n",
       "  th {\n",
       "    text-align: left;\n",
       "  }\n",
       "</style><div class='table-result-container'><table class='table-result'><thead style='background-color: white'><tr><th>name</th><th>order_date</th><th>product_name</th></tr></thead><tbody><tr><td>Customer1</td><td>2025-06-01</td><td>Laptop</td></tr><tr><td>Customer1</td><td>2025-06-01</td><td>Headphones</td></tr><tr><td>Customer2</td><td>2025-06-02</td><td>Chair</td></tr><tr><td>Customer3</td><td>2025-06-03</td><td>Phone</td></tr><tr><td>Customer4</td><td>2025-06-04</td><td>Table</td></tr><tr><td>Customer5</td><td>2025-06-05</td><td>Fan</td></tr><tr><td>Customer6</td><td>2025-06-06</td><td>Fridge</td></tr><tr><td>Customer7</td><td>2025-06-07</td><td>Mouse</td></tr><tr><td>Customer8</td><td>2025-06-08</td><td>Keyboard</td></tr><tr><td>Customer9</td><td>2025-06-09</td><td>Bottle</td></tr><tr><td>Customer10</td><td>2025-06-10</td><td>Notebook</td></tr><tr><td>Customer11</td><td>2025-06-11</td><td>TV</td></tr><tr><td>Customer12</td><td>2025-06-12</td><td>Pen</td></tr><tr><td>Customer13</td><td>2025-06-13</td><td>Spoon</td></tr><tr><td>Customer14</td><td>2025-06-14</td><td>Air Conditioner</td></tr><tr><td>Customer15</td><td>2025-06-15</td><td>Mattress</td></tr><tr><td>Customer16</td><td>2025-06-16</td><td>Bag</td></tr><tr><td>Customer17</td><td>2025-06-17</td><td>Watch</td></tr><tr><td>Customer18</td><td>2025-06-18</td><td>Router</td></tr><tr><td>Customer19</td><td>2025-06-19</td><td>Lamp</td></tr></tbody></table></div>"
      ]
     },
     "metadata": {
      "application/vnd.databricks.v1+output": {
       "addedWidgets": {},
       "aggData": [],
       "aggError": "",
       "aggOverflow": false,
       "aggSchema": [],
       "aggSeriesLimitReached": false,
       "aggType": "",
       "arguments": {},
       "columnCustomDisplayInfos": {},
       "data": [
        [
         "Customer1",
         "2025-06-01",
         "Laptop"
        ],
        [
         "Customer1",
         "2025-06-01",
         "Headphones"
        ],
        [
         "Customer2",
         "2025-06-02",
         "Chair"
        ],
        [
         "Customer3",
         "2025-06-03",
         "Phone"
        ],
        [
         "Customer4",
         "2025-06-04",
         "Table"
        ],
        [
         "Customer5",
         "2025-06-05",
         "Fan"
        ],
        [
         "Customer6",
         "2025-06-06",
         "Fridge"
        ],
        [
         "Customer7",
         "2025-06-07",
         "Mouse"
        ],
        [
         "Customer8",
         "2025-06-08",
         "Keyboard"
        ],
        [
         "Customer9",
         "2025-06-09",
         "Bottle"
        ],
        [
         "Customer10",
         "2025-06-10",
         "Notebook"
        ],
        [
         "Customer11",
         "2025-06-11",
         "TV"
        ],
        [
         "Customer12",
         "2025-06-12",
         "Pen"
        ],
        [
         "Customer13",
         "2025-06-13",
         "Spoon"
        ],
        [
         "Customer14",
         "2025-06-14",
         "Air Conditioner"
        ],
        [
         "Customer15",
         "2025-06-15",
         "Mattress"
        ],
        [
         "Customer16",
         "2025-06-16",
         "Bag"
        ],
        [
         "Customer17",
         "2025-06-17",
         "Watch"
        ],
        [
         "Customer18",
         "2025-06-18",
         "Router"
        ],
        [
         "Customer19",
         "2025-06-19",
         "Lamp"
        ]
       ],
       "datasetInfos": [
        {
         "name": "_sqldf",
         "schema": {
          "fields": [
           {
            "metadata": {
             "__CHAR_VARCHAR_TYPE_STRING": "varchar(100)"
            },
            "name": "name",
            "nullable": true,
            "type": "string"
           },
           {
            "metadata": {},
            "name": "order_date",
            "nullable": true,
            "type": "date"
           },
           {
            "metadata": {
             "__CHAR_VARCHAR_TYPE_STRING": "varchar(100)"
            },
            "name": "product_name",
            "nullable": true,
            "type": "string"
           }
          ],
          "type": "struct"
         },
         "tableIdentifier": null,
         "typeStr": "pyspark.sql.connect.dataframe.DataFrame"
        }
       ],
       "dbfsResultPath": null,
       "isJsonSchema": true,
       "metadata": {
        "createTempViewForImplicitDf": true,
        "dataframeName": "_sqldf",
        "executionCount": 77
       },
       "overflow": false,
       "plotOptions": {
        "customPlotOptions": {},
        "displayType": "table",
        "pivotAggregation": null,
        "pivotColumns": null,
        "xColumns": null,
        "yColumns": null
       },
       "removedWidgets": [],
       "schema": [
        {
         "metadata": "{\"__CHAR_VARCHAR_TYPE_STRING\": \"varchar(100)\"}",
         "name": "name",
         "type": "\"string\""
        },
        {
         "metadata": "{}",
         "name": "order_date",
         "type": "\"date\""
        },
        {
         "metadata": "{\"__CHAR_VARCHAR_TYPE_STRING\": \"varchar(100)\"}",
         "name": "product_name",
         "type": "\"string\""
        }
       ],
       "type": "table"
      }
     },
     "output_type": "display_data"
    }
   ],
   "source": [
    "--25. Display customer name, order date,product name for all orders.\n",
    "\n",
    "SELECT c.name ,o.order_date, p.product_name\n",
    "FROM customers AS c\n",
    "JOIN orders AS o ON c.customer_id = o.customer_id\n",
    "JOIN order_items AS oi ON o.order_id = oi.order_id\n",
    "JOIN products AS p ON oi.product_id = p.product_id;\n",
    "\n"
   ]
  }
 ],
 "metadata": {
  "application/vnd.databricks.v1+notebook": {
   "computePreferences": null,
   "dashboards": [],
   "environmentMetadata": {
    "base_environment": "",
    "environment_version": "2"
   },
   "inputWidgetPreferences": null,
   "language": "sql",
   "notebookMetadata": {
    "pythonIndentUnit": 4
   },
   "notebookName": "simple sales insights",
   "widgets": {}
  },
  "language_info": {
   "name": "sql"
  }
 },
 "nbformat": 4,
 "nbformat_minor": 0
}